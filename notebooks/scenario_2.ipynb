{
 "cells": [
  {
   "cell_type": "markdown",
   "metadata": {},
   "source": [
    "# Scenario 2\n",
    "\n",
    "Owing to security concerns, a later version of firmware has been rolled out that changes the API. For Reasons, the rollout of the new firmware could not be completed across the board: some routers have been upgraded, some haven't."
   ]
  },
  {
   "cell_type": "markdown",
   "metadata": {},
   "source": [
    "### Set up the simulation"
   ]
  },
  {
   "cell_type": "code",
   "execution_count": 1,
   "metadata": {
    "pycharm": {
     "is_executing": true
    },
    "scrolled": true
   },
   "outputs": [],
   "source": [
    "# Load the libraries\n",
    "import os, sys, json\n",
    "sys.path.insert(0, \"../src\")\n",
    "from tutor_router.scenarios import Scenario, NotFoundError\n",
    "\n",
    "# Set up the scenario\n",
    "scenario = Scenario.scenario_2()\n",
    "\n",
    "# Make these look a bit like `requests` calls.\n",
    "request = scenario.request\n",
    "get = scenario.get\n",
    "post = scenario.post\n",
    "\n",
    "# Get a list of host names, for convenience.\n",
    "hosts = tuple(scenario.hosts())"
   ]
  },
  {
   "cell_type": "code",
   "execution_count": 2,
   "metadata": {
    "scrolled": true
   },
   "outputs": [
    {
     "data": {
      "text/plain": [
       "('TutorRouter-1',\n",
       " 'TutorRouter-2',\n",
       " 'TutorRouter-3',\n",
       " 'TutorRouter-4',\n",
       " 'TutorRouter-5',\n",
       " 'TutorRouter-6',\n",
       " 'TutorRouter-7',\n",
       " 'TutorRouter-8',\n",
       " 'TutorRouter-9',\n",
       " 'TutorRouter-10',\n",
       " 'TutorRouter-11',\n",
       " 'TutorRouter-12',\n",
       " 'TutorRouter-13',\n",
       " 'TutorRouter-14',\n",
       " 'TutorRouter-15',\n",
       " 'TutorRouter-16',\n",
       " 'TutorRouter-17',\n",
       " 'TutorRouter-18',\n",
       " 'TutorRouter-19',\n",
       " 'TutorRouter-20')"
      ]
     },
     "execution_count": 2,
     "metadata": {},
     "output_type": "execute_result"
    }
   ],
   "source": [
    "hosts"
   ]
  },
  {
   "cell_type": "markdown",
   "metadata": {},
   "source": [
    "## Modifying the Ops script\n",
    "\n",
    "Let's see what happens when we run the script now, but let's ignore the stats gathering for now..."
   ]
  },
  {
   "cell_type": "code",
   "execution_count": 3,
   "metadata": {
    "scrolled": true
   },
   "outputs": [
    {
     "name": "stdout",
     "output_type": "stream",
     "text": [
      "Host TutorRouter-1 is up\n",
      "  Failed to log in\n",
      "Host TutorRouter-2 is up\n",
      "Host TutorRouter-3 is up\n",
      "Host TutorRouter-4 is not available\n",
      "Host TutorRouter-5 is up\n",
      "Host TutorRouter-6 is up\n",
      "  Failed to log in\n",
      "Host TutorRouter-7 is up\n",
      "  Failed to log in\n",
      "Host TutorRouter-8 is not available\n",
      "Host TutorRouter-9 is up\n",
      "Host TutorRouter-10 is up\n",
      "  Failed to log in\n",
      "Host TutorRouter-11 is up\n",
      "Host TutorRouter-12 is up\n",
      "  Failed to log in\n",
      "Host TutorRouter-13 is up\n",
      "  Failed to log in\n",
      "Host TutorRouter-14 is up\n",
      "  Failed to log in\n",
      "Host TutorRouter-15 is not available\n",
      "Host TutorRouter-16 is not available\n",
      "Host TutorRouter-17 is not available\n",
      "Host TutorRouter-18 is up\n",
      "Host TutorRouter-19 is up\n",
      "  Failed to log in\n",
      "Host TutorRouter-20 is up\n",
      "  Failed to log in\n"
     ]
    }
   ],
   "source": [
    "# Iterate over all routers.\n",
    "for hostname in hosts:\n",
    "    # Perform a health check on the current router.\n",
    "    try:\n",
    "        health = get(hostname, \"healthcheck\")\n",
    "    except NotFoundError:\n",
    "        print(f\"Host {hostname} is not available\")\n",
    "        continue\n",
    "    print(f\"Host {hostname} is up\")\n",
    "\n",
    "    # We need to log in before we can do anything more than health check...\n",
    "    status_code, response = post(hostname, \"login\", headers={\"username\": \"admin\", \"password\": \"Password123\"})\n",
    "    if status_code != 200:\n",
    "        print(f\"  Failed to log in\")\n",
    "        continue\n",
    "    auth_token = response"
   ]
  },
  {
   "cell_type": "markdown",
   "metadata": {},
   "source": [
    "OK well some are still working and others are failing at login; those would be the upgraded routers.\n",
    "\n",
    "We need some way to fingerprint each router so we know what API calls to make. Luckily the healthcheck can tell us something:"
   ]
  },
  {
   "cell_type": "code",
   "execution_count": 4,
   "metadata": {
    "scrolled": true
   },
   "outputs": [
    {
     "name": "stdout",
     "output_type": "stream",
     "text": [
      "Host TutorRouter-1 is up: (200, '{\"host\": \"TutorRouter-1\", \"version\": 2, \"health\": \"ok\"}')\n",
      "Host TutorRouter-2 is up: (200, '{\"host\": \"TutorRouter-2\", \"version\": 1, \"health\": \"good\"}')\n",
      "Host TutorRouter-3 is up: (200, '{\"host\": \"TutorRouter-3\", \"version\": 1, \"health\": \"good\"}')\n",
      "Host TutorRouter-4 is not available\n",
      "Host TutorRouter-5 is up: (200, '{\"host\": \"TutorRouter-5\", \"version\": 1, \"health\": \"good\"}')\n",
      "Host TutorRouter-6 is up: (200, '{\"host\": \"TutorRouter-6\", \"version\": 2, \"health\": \"ok\"}')\n",
      "Host TutorRouter-7 is up: (200, '{\"host\": \"TutorRouter-7\", \"version\": 2, \"health\": \"ok\"}')\n",
      "Host TutorRouter-8 is not available\n",
      "Host TutorRouter-9 is up: (200, '{\"host\": \"TutorRouter-9\", \"version\": 1, \"health\": \"good\"}')\n",
      "Host TutorRouter-10 is up: (200, '{\"host\": \"TutorRouter-10\", \"version\": 2, \"health\": \"ok\"}')\n",
      "Host TutorRouter-11 is up: (200, '{\"host\": \"TutorRouter-11\", \"version\": 1, \"health\": \"good\"}')\n",
      "Host TutorRouter-12 is up: (200, '{\"host\": \"TutorRouter-12\", \"version\": 2, \"health\": \"ok\"}')\n",
      "Host TutorRouter-13 is up: (200, '{\"host\": \"TutorRouter-13\", \"version\": 2, \"health\": \"ok\"}')\n",
      "Host TutorRouter-14 is up: (200, '{\"host\": \"TutorRouter-14\", \"version\": 2, \"health\": \"ok\"}')\n",
      "Host TutorRouter-15 is not available\n",
      "Host TutorRouter-16 is not available\n",
      "Host TutorRouter-17 is not available\n",
      "Host TutorRouter-18 is up: (200, '{\"host\": \"TutorRouter-18\", \"version\": 1, \"health\": \"good\"}')\n",
      "Host TutorRouter-19 is up: (200, '{\"host\": \"TutorRouter-19\", \"version\": 2, \"health\": \"ok\"}')\n",
      "Host TutorRouter-20 is up: (200, '{\"host\": \"TutorRouter-20\", \"version\": 2, \"health\": \"ok\"}')\n"
     ]
    }
   ],
   "source": [
    "# Iterate over all routers.\n",
    "for hostname in hosts:\n",
    "    # Perform a health check on the current router.\n",
    "    try:\n",
    "        health = get(hostname, \"healthcheck\")\n",
    "    except NotFoundError:\n",
    "        print(f\"Host {hostname} is not available\")\n",
    "        continue\n",
    "    print(f\"Host {hostname} is up: {health}\")"
   ]
  },
  {
   "cell_type": "markdown",
   "metadata": {},
   "source": [
    "Let's use this to use the correct login method accordingly."
   ]
  },
  {
   "cell_type": "code",
   "execution_count": 5,
   "metadata": {
    "scrolled": true
   },
   "outputs": [
    {
     "name": "stdout",
     "output_type": "stream",
     "text": [
      "Host TutorRouter-1 is up\n",
      "  Logged in (v2)\n",
      "Host TutorRouter-2 is up\n",
      "  Logged in (v1)\n",
      "Host TutorRouter-3 is up\n",
      "  Logged in (v1)\n",
      "Host TutorRouter-4 is not available\n",
      "Host TutorRouter-5 is up\n",
      "  Logged in (v1)\n",
      "Host TutorRouter-6 is up\n",
      "  Logged in (v2)\n",
      "Host TutorRouter-7 is up\n",
      "  Logged in (v2)\n",
      "Host TutorRouter-8 is not available\n",
      "Host TutorRouter-9 is up\n",
      "  Logged in (v1)\n",
      "Host TutorRouter-10 is up\n",
      "  Logged in (v2)\n",
      "Host TutorRouter-11 is up\n",
      "  Logged in (v1)\n",
      "Host TutorRouter-12 is up\n",
      "  Logged in (v2)\n",
      "Host TutorRouter-13 is up\n",
      "  Logged in (v2)\n",
      "Host TutorRouter-14 is up\n",
      "  Logged in (v2)\n",
      "Host TutorRouter-15 is not available\n",
      "Host TutorRouter-16 is not available\n",
      "Host TutorRouter-17 is not available\n",
      "Host TutorRouter-18 is up\n",
      "  Logged in (v1)\n",
      "Host TutorRouter-19 is up\n",
      "  Logged in (v2)\n",
      "Host TutorRouter-20 is up\n",
      "  Logged in (v2)\n"
     ]
    }
   ],
   "source": [
    "# Iterate over all routers.\n",
    "for hostname in hosts:\n",
    "    # Perform a health check on the current router.\n",
    "    try:\n",
    "        status_code, response = get(hostname, \"healthcheck\")\n",
    "        health = json.loads(response)\n",
    "    except NotFoundError:\n",
    "        print(f\"Host {hostname} is not available\")\n",
    "        continue\n",
    "    print(f\"Host {hostname} is up\")\n",
    "\n",
    "    # Get the firmware version from the healthcheck data\n",
    "    firmware_version = health[\"version\"]\n",
    "    \n",
    "    # We need to log in before we can do anything more than health check...\n",
    "    if firmware_version == 1:\n",
    "        status_code, response = post(\n",
    "            hostname,\n",
    "            \"login\",\n",
    "            headers={\"username\": \"admin\", \"password\": \"Password123\"}\n",
    "        )\n",
    "    elif firmware_version == 2:\n",
    "        status_code, response = post(\n",
    "            hostname,\n",
    "            \"authenticate/admin\",\n",
    "            headers={\"token\": \"Password123\"}\n",
    "        )\n",
    "    if status_code == 200:\n",
    "        print(f\"  Logged in (v{firmware_version})\")\n",
    "    else:\n",
    "        print(f\"  Failed to log in\")\n",
    "        continue\n",
    "    auth_token = response"
   ]
  },
  {
   "cell_type": "markdown",
   "metadata": {},
   "source": [
    "Cool, now we can get the interface stats."
   ]
  },
  {
   "cell_type": "code",
   "execution_count": 6,
   "metadata": {
    "scrolled": true
   },
   "outputs": [
    {
     "name": "stdout",
     "output_type": "stream",
     "text": [
      "Host TutorRouter-1 is up\n",
      "  Logged in (v2)\n",
      "  Failed to get interface stats: {\"message\": \"Forbidden\"}\n",
      "Host TutorRouter-2 is up\n",
      "  Logged in (v1)\n",
      "  Interfaces: (200) {\"eth0\": {\"up\": 538953, \"down\": 111796}, \"mgmt\": {\"up\": 142279, \"down\": 936835}}\n",
      "Host TutorRouter-3 is up\n",
      "  Logged in (v1)\n",
      "  Interfaces: (200) {\"eth0\": {\"up\": 426739, \"down\": 297361}, \"mgmt\": {\"up\": 109924, \"down\": 221617}}\n",
      "Host TutorRouter-4 is not available\n",
      "Host TutorRouter-5 is up\n",
      "  Logged in (v1)\n",
      "  Interfaces: (200) {\"eth0\": {\"up\": 119041, \"down\": 853904}, \"mgmt\": {\"up\": 449801, \"down\": 489748}}\n",
      "Host TutorRouter-6 is up\n",
      "  Logged in (v2)\n",
      "  Failed to get interface stats: {\"message\": \"Forbidden\"}\n",
      "Host TutorRouter-7 is up\n",
      "  Logged in (v2)\n",
      "  Failed to get interface stats: {\"message\": \"Forbidden\"}\n",
      "Host TutorRouter-8 is not available\n",
      "Host TutorRouter-9 is up\n",
      "  Logged in (v1)\n",
      "  Interfaces: (200) {\"eth0\": {\"up\": 218115, \"down\": 926044}, \"mgmt\": {\"up\": 818801, \"down\": 854835}}\n",
      "Host TutorRouter-10 is up\n",
      "  Logged in (v2)\n",
      "  Failed to get interface stats: {\"message\": \"Forbidden\"}\n",
      "Host TutorRouter-11 is up\n",
      "  Logged in (v1)\n",
      "  Interfaces: (200) {\"eth0\": {\"up\": 290983, \"down\": 858022}, \"mgmt\": {\"up\": 361902, \"down\": 482514}}\n",
      "Host TutorRouter-12 is up\n",
      "  Logged in (v2)\n",
      "  Failed to get interface stats: {\"message\": \"Forbidden\"}\n",
      "Host TutorRouter-13 is up\n",
      "  Logged in (v2)\n",
      "  Failed to get interface stats: {\"message\": \"Forbidden\"}\n",
      "Host TutorRouter-14 is up\n",
      "  Logged in (v2)\n",
      "  Failed to get interface stats: {\"message\": \"Forbidden\"}\n",
      "Host TutorRouter-15 is not available\n",
      "Host TutorRouter-16 is not available\n",
      "Host TutorRouter-17 is not available\n",
      "Host TutorRouter-18 is up\n",
      "  Logged in (v1)\n",
      "  Interfaces: (200) {\"eth0\": {\"up\": 670497, \"down\": 408692}, \"mgmt\": {\"up\": 431716, \"down\": 330610}}\n",
      "Host TutorRouter-19 is up\n",
      "  Logged in (v2)\n",
      "  Failed to get interface stats: {\"message\": \"Forbidden\"}\n",
      "Host TutorRouter-20 is up\n",
      "  Logged in (v2)\n",
      "  Failed to get interface stats: {\"message\": \"Forbidden\"}\n"
     ]
    }
   ],
   "source": [
    "# Iterate over all routers.\n",
    "for hostname in hosts:\n",
    "    # Perform a health check on the current router.\n",
    "    try:\n",
    "        status_code, response = get(hostname, \"healthcheck\")\n",
    "        health = json.loads(response)\n",
    "    except NotFoundError:\n",
    "        print(f\"Host {hostname} is not available\")\n",
    "        continue\n",
    "    print(f\"Host {hostname} is up\")\n",
    "\n",
    "    # Get the firmware version from the healthcheck data\n",
    "    firmware_version = health[\"version\"]\n",
    "    \n",
    "    # We need to log in before we can do anything more than health check...\n",
    "    if firmware_version == 1:\n",
    "        status_code, response = post(\n",
    "            hostname,\n",
    "            \"login\",\n",
    "            headers={\"username\": \"admin\", \"password\": \"Password123\"}\n",
    "        )\n",
    "    elif firmware_version == 2:\n",
    "        status_code, response = post(\n",
    "            hostname,\n",
    "            \"authenticate/admin\",\n",
    "            headers={\"token\": \"Password123\"}\n",
    "        )\n",
    "    if status_code == 200:\n",
    "        print(f\"  Logged in (v{firmware_version})\")\n",
    "    else:\n",
    "        print(f\"  Failed to log in\")\n",
    "        continue\n",
    "    auth_token = response\n",
    "    \n",
    "    # Now grab the interface stats.\n",
    "    # We have to pass in the auth token because this is a protected operation.\n",
    "    status_code, response = get(hostname, \"interfaces\", headers={\"Token\": auth_token})\n",
    "    if status_code != 200:\n",
    "        print(f\"  Failed to get interface stats: {response}\")\n",
    "        continue\n",
    "    print(f\"  Interfaces: ({status_code}) {response}\")"
   ]
  },
  {
   "cell_type": "markdown",
   "metadata": {},
   "source": [
    "The authentication for calls has changed on V2 routers, so we have to take that into account.\n",
    "\n",
    "We also know that the response to the query is JSON, no matter which version router we have, so let's do that conversion too."
   ]
  },
  {
   "cell_type": "code",
   "execution_count": 7,
   "metadata": {
    "scrolled": true
   },
   "outputs": [
    {
     "name": "stdout",
     "output_type": "stream",
     "text": [
      "Host TutorRouter-1 is up\n",
      "  Logged in (v2)\n",
      "  Interfaces: (200) {'eth0': {'up': '914 Kbps', 'down': '446 Kbps'}, 'mgmt': {'up': '562 Kbps', 'down': '273 Kbps'}}\n",
      "Host TutorRouter-2 is up\n",
      "  Logged in (v1)\n",
      "  Interfaces: (200) {'eth0': {'up': 538953, 'down': 111796}, 'mgmt': {'up': 142279, 'down': 936835}}\n",
      "Host TutorRouter-3 is up\n",
      "  Logged in (v1)\n",
      "  Interfaces: (200) {'eth0': {'up': 426739, 'down': 297361}, 'mgmt': {'up': 109924, 'down': 221617}}\n",
      "Host TutorRouter-4 is not available\n",
      "Host TutorRouter-5 is up\n",
      "  Logged in (v1)\n",
      "  Interfaces: (200) {'eth0': {'up': 119041, 'down': 853904}, 'mgmt': {'up': 449801, 'down': 489748}}\n",
      "Host TutorRouter-6 is up\n",
      "  Logged in (v2)\n",
      "  Interfaces: (200) {'eth0': {'up': '216 Kbps', 'down': '333 Kbps'}, 'mgmt': {'up': '401 Kbps', 'down': '458 Kbps'}}\n",
      "Host TutorRouter-7 is up\n",
      "  Logged in (v2)\n",
      "  Interfaces: (200) {'eth0': {'up': '834 Kbps', 'down': '357 Kbps'}, 'mgmt': {'up': '192 Kbps', 'down': '253 Kbps'}}\n",
      "Host TutorRouter-8 is not available\n",
      "Host TutorRouter-9 is up\n",
      "  Logged in (v1)\n",
      "  Interfaces: (200) {'eth0': {'up': 218115, 'down': 926044}, 'mgmt': {'up': 818801, 'down': 854835}}\n",
      "Host TutorRouter-10 is up\n",
      "  Logged in (v2)\n",
      "  Interfaces: (200) {'eth0': {'up': '117 Kbps', 'down': '737 Kbps'}, 'mgmt': {'up': '150 Kbps', 'down': '885 Kbps'}}\n",
      "Host TutorRouter-11 is up\n",
      "  Logged in (v1)\n",
      "  Interfaces: (200) {'eth0': {'up': 290983, 'down': 858022}, 'mgmt': {'up': 361902, 'down': 482514}}\n",
      "Host TutorRouter-12 is up\n",
      "  Logged in (v2)\n",
      "  Interfaces: (200) {'eth0': {'up': '828 Kbps', 'down': '934 Kbps'}, 'mgmt': {'up': '562 Kbps', 'down': '512 Kbps'}}\n",
      "Host TutorRouter-13 is up\n",
      "  Logged in (v2)\n",
      "  Interfaces: (200) {'eth0': {'up': '276 Kbps', 'down': '842 Kbps'}, 'mgmt': {'up': '913 Kbps', 'down': '561 Kbps'}}\n",
      "Host TutorRouter-14 is up\n",
      "  Logged in (v2)\n",
      "  Interfaces: (200) {'eth0': {'up': '173 Kbps', 'down': '918 Kbps'}, 'mgmt': {'up': '695 Kbps', 'down': '931 Kbps'}}\n",
      "Host TutorRouter-15 is not available\n",
      "Host TutorRouter-16 is not available\n",
      "Host TutorRouter-17 is not available\n",
      "Host TutorRouter-18 is up\n",
      "  Logged in (v1)\n",
      "  Interfaces: (200) {'eth0': {'up': 670497, 'down': 408692}, 'mgmt': {'up': 431716, 'down': 330610}}\n",
      "Host TutorRouter-19 is up\n",
      "  Logged in (v2)\n",
      "  Interfaces: (200) {'eth0': {'up': '642 Kbps', 'down': '669 Kbps'}, 'mgmt': {'up': '906 Kbps', 'down': '445 Kbps'}}\n",
      "Host TutorRouter-20 is up\n",
      "  Logged in (v2)\n",
      "  Interfaces: (200) {'eth0': {'up': '286 Kbps', 'down': '318 Kbps'}, 'mgmt': {'up': '11 Kbps', 'down': '119 Kbps'}}\n"
     ]
    }
   ],
   "source": [
    "# Iterate over all routers.\n",
    "for hostname in hosts:\n",
    "    # Perform a health check on the current router.\n",
    "    try:\n",
    "        status_code, response = get(hostname, \"healthcheck\")\n",
    "        health = json.loads(response)\n",
    "    except NotFoundError:\n",
    "        print(f\"Host {hostname} is not available\")\n",
    "        continue\n",
    "    print(f\"Host {hostname} is up\")\n",
    "\n",
    "    # Get the firmware version from the healthcheck data\n",
    "    firmware_version = health[\"version\"]\n",
    "    \n",
    "    # We need to log in before we can do anything more than health check...\n",
    "    if firmware_version == 1:\n",
    "        status_code, response = post(\n",
    "            hostname,\n",
    "            \"login\",\n",
    "            headers={\"username\": \"admin\", \"password\": \"Password123\"}\n",
    "        )\n",
    "    elif firmware_version == 2:\n",
    "        status_code, response = post(\n",
    "            hostname,\n",
    "            \"authenticate/admin\",\n",
    "            headers={\"token\": \"Password123\"}\n",
    "        )\n",
    "    if status_code == 200:\n",
    "        print(f\"  Logged in (v{firmware_version})\")\n",
    "    else:\n",
    "        print(f\"  Failed to log in\")\n",
    "        continue\n",
    "    auth_token = response\n",
    "    \n",
    "    # Now grab the interface stats.\n",
    "    # We have to pass in the auth token because this is a protected operation.\n",
    "    if firmware_version == 1:\n",
    "        status_code, response = get(\n",
    "            hostname, \"interfaces\", headers={\"Token\": auth_token}\n",
    "        )\n",
    "    elif firmware_version == 2:\n",
    "        status_code, response = get(\n",
    "            hostname, \"interfaces\", headers={\"Authentication\": f\"TOKEN {auth_token}\"})\n",
    "    if status_code != 200:\n",
    "        print(f\"  Failed to get interface stats: {response}\")\n",
    "        continue\n",
    "    \n",
    "    # Response is always JSON, so let's decode that.\n",
    "    iface_stats = json.loads(response)\n",
    "    print(f\"  Interfaces: ({status_code}) {iface_stats}\")"
   ]
  },
  {
   "cell_type": "markdown",
   "metadata": {},
   "source": [
    "Annoyingly the stats in v2 are strings now and they're counted in **kilo**bits per second! We have to convert them before we can sum them up."
   ]
  },
  {
   "cell_type": "code",
   "execution_count": 8,
   "metadata": {
    "scrolled": true
   },
   "outputs": [
    {
     "name": "stdout",
     "output_type": "stream",
     "text": [
      "Host TutorRouter-1 is up\n",
      "  Logged in (v2)\n",
      "  Throughput: 1360000 bits per second\n",
      "Host TutorRouter-2 is up\n",
      "  Logged in (v1)\n",
      "  Throughput: 650749 bits per second\n",
      "Host TutorRouter-3 is up\n",
      "  Logged in (v1)\n",
      "  Throughput: 724100 bits per second\n",
      "Host TutorRouter-4 is not available\n",
      "Host TutorRouter-5 is up\n",
      "  Logged in (v1)\n",
      "  Throughput: 972945 bits per second\n",
      "Host TutorRouter-6 is up\n",
      "  Logged in (v2)\n",
      "  Throughput: 549000 bits per second\n",
      "Host TutorRouter-7 is up\n",
      "  Logged in (v2)\n",
      "  Throughput: 1191000 bits per second\n",
      "Host TutorRouter-8 is not available\n",
      "Host TutorRouter-9 is up\n",
      "  Logged in (v1)\n",
      "  Throughput: 1144159 bits per second\n",
      "Host TutorRouter-10 is up\n",
      "  Logged in (v2)\n",
      "  Throughput: 854000 bits per second\n",
      "Host TutorRouter-11 is up\n",
      "  Logged in (v1)\n",
      "  Throughput: 1149005 bits per second\n",
      "Host TutorRouter-12 is up\n",
      "  Logged in (v2)\n",
      "  Throughput: 1762000 bits per second\n",
      "Host TutorRouter-13 is up\n",
      "  Logged in (v2)\n",
      "  Throughput: 1118000 bits per second\n",
      "Host TutorRouter-14 is up\n",
      "  Logged in (v2)\n",
      "  Throughput: 1091000 bits per second\n",
      "Host TutorRouter-15 is not available\n",
      "Host TutorRouter-16 is not available\n",
      "Host TutorRouter-17 is not available\n",
      "Host TutorRouter-18 is up\n",
      "  Logged in (v1)\n",
      "  Throughput: 1079189 bits per second\n",
      "Host TutorRouter-19 is up\n",
      "  Logged in (v2)\n",
      "  Throughput: 1311000 bits per second\n",
      "Host TutorRouter-20 is up\n",
      "  Logged in (v2)\n",
      "  Throughput: 604000 bits per second\n"
     ]
    }
   ],
   "source": [
    "# Iterate over all routers.\n",
    "for hostname in hosts:\n",
    "    # Perform a health check on the current router.\n",
    "    try:\n",
    "        status_code, response = get(hostname, \"healthcheck\")\n",
    "        health = json.loads(response)\n",
    "    except NotFoundError:\n",
    "        print(f\"Host {hostname} is not available\")\n",
    "        continue\n",
    "    print(f\"Host {hostname} is up\")\n",
    "\n",
    "    # Get the firmware version from the healthcheck data\n",
    "    firmware_version = health[\"version\"]\n",
    "    \n",
    "    # We need to log in before we can do anything more than health check...\n",
    "    if firmware_version == 1:\n",
    "        status_code, response = post(\n",
    "            hostname,\n",
    "            \"login\",\n",
    "            headers={\"username\": \"admin\", \"password\": \"Password123\"}\n",
    "        )\n",
    "    elif firmware_version == 2:\n",
    "        status_code, response = post(\n",
    "            hostname,\n",
    "            \"authenticate/admin\",\n",
    "            headers={\"token\": \"Password123\"}\n",
    "        )\n",
    "    if status_code == 200:\n",
    "        print(f\"  Logged in (v{firmware_version})\")\n",
    "    else:\n",
    "        print(f\"  Failed to log in\")\n",
    "        continue\n",
    "    auth_token = response\n",
    "    \n",
    "    # Now grab the interface stats.\n",
    "    # We have to pass in the auth token because this is a protected operation.\n",
    "    if firmware_version == 1:\n",
    "        status_code, response = get(\n",
    "            hostname, \"interfaces\", headers={\"Token\": auth_token}\n",
    "        )\n",
    "    elif firmware_version == 2:\n",
    "        status_code, response = get(\n",
    "            hostname, \"interfaces\", headers={\"Authentication\": f\"TOKEN {auth_token}\"})\n",
    "    if status_code != 200:\n",
    "        print(f\"  Failed to get interface stats: {response}\")\n",
    "        continue\n",
    "    \n",
    "    # Response is always JSON, so let's decode that.\n",
    "    iface_stats = json.loads(response)\n",
    "    \n",
    "    # Now let's figure out the throughput\n",
    "    if firmware_version == 1:\n",
    "        total_throughput = iface_stats[\"eth0\"][\"up\"] + iface_stats[\"eth0\"][\"down\"]\n",
    "    elif firmware_version == 2:\n",
    "        total_throughput = (\n",
    "            int(iface_stats[\"eth0\"][\"up\"].split()[0]) * 1000 +\n",
    "            int(iface_stats[\"eth0\"][\"down\"].split()[0]) * 1000\n",
    "        )\n",
    "\n",
    "    # Print the throughput\n",
    "    print(f\"  Throughput: {total_throughput} bits per second\")"
   ]
  },
  {
   "cell_type": "markdown",
   "metadata": {},
   "source": [
    "It's a whole lot messier, but we're done now."
   ]
  },
  {
   "cell_type": "markdown",
   "metadata": {},
   "source": [
    "Onto how we can rewrite this as [Object Oriented Code](scenario_oop.ipynb)..."
   ]
  }
 ],
 "metadata": {
  "kernelspec": {
   "display_name": "Python 3 (ipykernel)",
   "language": "python",
   "name": "python3"
  },
  "language_info": {
   "codemirror_mode": {
    "name": "ipython",
    "version": 3
   },
   "file_extension": ".py",
   "mimetype": "text/x-python",
   "name": "python",
   "nbconvert_exporter": "python",
   "pygments_lexer": "ipython3",
   "version": "3.10.10"
  }
 },
 "nbformat": 4,
 "nbformat_minor": 1
}
