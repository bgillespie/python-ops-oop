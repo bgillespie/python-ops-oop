{
 "cells": [
  {
   "cell_type": "markdown",
   "source": [
    "## Scenario 2\n",
    "\n",
    "Owing to security concerns, a later version of firmware has been rolled out that changes the API. For Reasons, the rollout of the new firmware could not be completed across the board: some routers have been upgraded, some haven't.\n",
    "\n",
    "### Sequence of events\n",
    "\n",
    "* New TutorRouter firmware is rolled out to some routers. The script can no longer log in to or get traffic data from _all_ the routers in the same way.\n",
    "    * Observe that further firmware updates will cause headaches...\n",
    "    * Observe that other scripts doing different tasks will have to be modified.\n",
    "\n",
    "### Demonstrate\n",
    "\n",
    "* **Inheritance** - DRYness.\n",
    "  * Each device _is a_ `TutorRouter` with some commonalities, e.g. IP address; health check path is always the same.\n",
    "  * All TutorRouters can output total ingress and total egress.\n",
    "  * Different login methodologies.\n",
    "* **Encapsulation** - contain attributes (properties and methods) together in Objects. Each device _has_...\n",
    "  * **Properties**: IP address/Hostname, set of interfaces.\n",
    "  * **Methods**: a _method_ of logging in, a _method_ for checking health, a _method_ of pulling interface stats.\n",
    "* **Abstraction** - hide implementation details that users of your class don't need or want to deal with.\n",
    "  * Hide the details of how login is achieved.\n",
    "  * Return the data (e.g. interface throughput) in a format that's easy to consume.\n",
    "* **Polymorphism** - allow all routers to be treated the same way transparently.\n",
    "  * Although different \"shapes\", they are all routers with the same functions.\n",
    "  * No special logic should be needed by the user for routers with different firmware."
   ],
   "metadata": {
    "collapsed": false
   }
  },
  {
   "cell_type": "markdown",
   "source": [
    "### Set up the simulation"
   ],
   "metadata": {
    "collapsed": false
   }
  },
  {
   "cell_type": "code",
   "execution_count": 5,
   "outputs": [],
   "source": [
    "# Load the libraries\n",
    "import os, sys\n",
    "sys.path.insert(0, \"../src\")\n",
    "from tutor_router.scenarios import Scenario, NotFoundError\n",
    "\n",
    "# Set up the scenario\n",
    "scenario = Scenario.scenario_2()\n",
    "\n",
    "# Make these look a bit like `requests` calls.\n",
    "request = scenario.request\n",
    "get = scenario.get\n",
    "post = scenario.post\n",
    "\n",
    "# Get a list of host names, for convenience.\n",
    "hosts = tuple(scenario.hosts())"
   ],
   "metadata": {
    "collapsed": false
   }
  },
  {
   "cell_type": "markdown",
   "source": [
    "## Modifying the Ops script\n",
    "\n",
    "Let's see what happens when we run the script now..."
   ],
   "metadata": {
    "collapsed": false
   }
  },
  {
   "cell_type": "code",
   "execution_count": 6,
   "outputs": [
    {
     "name": "stdout",
     "output_type": "stream",
     "text": [
      "Host TutorRouter-41 is not available\n",
      "Host TutorRouter-42 is up\n",
      "  Throughput: 374847 bits per second\n",
      "Host TutorRouter-43 is up\n",
      "  Failed to log in\n",
      "Host TutorRouter-44 is up\n",
      "  Failed to log in\n",
      "Host TutorRouter-45 is up\n",
      "  Throughput: 655570 bits per second\n",
      "Host TutorRouter-46 is up\n",
      "  Failed to log in\n",
      "Host TutorRouter-47 is up\n",
      "  Throughput: 1168167 bits per second\n",
      "Host TutorRouter-48 is not available\n",
      "Host TutorRouter-49 is not available\n",
      "Host TutorRouter-50 is up\n",
      "  Throughput: 1018071 bits per second\n",
      "Host TutorRouter-51 is up\n",
      "  Failed to log in\n",
      "Host TutorRouter-52 is not available\n",
      "Host TutorRouter-53 is not available\n",
      "Host TutorRouter-54 is up\n",
      "  Throughput: 865434 bits per second\n",
      "Host TutorRouter-55 is not available\n",
      "Host TutorRouter-56 is up\n",
      "  Failed to log in\n",
      "Host TutorRouter-57 is up\n",
      "  Throughput: 1073972 bits per second\n",
      "Host TutorRouter-58 is up\n",
      "  Throughput: 841605 bits per second\n",
      "Host TutorRouter-59 is not available\n",
      "Host TutorRouter-60 is up\n",
      "  Failed to log in\n"
     ]
    }
   ],
   "source": [
    "import json\n",
    "\n",
    "# Iterate over all routers.\n",
    "for hostname in hosts:\n",
    "    # Perform a health check on the current router.\n",
    "    try:\n",
    "        health = get(hostname, \"healthcheck\")\n",
    "    except NotFoundError:\n",
    "        print(f\"Host {hostname} is not available\")\n",
    "        continue\n",
    "    print(f\"Host {hostname} is up\")\n",
    "\n",
    "    # We need to log in before we can do anything more than health check...\n",
    "    status_code, response = post(hostname, \"login\", headers={\"username\": \"admin\", \"password\": \"Password123\"})\n",
    "    if status_code != 200:\n",
    "        print(f\"  Failed to log in\")\n",
    "        continue\n",
    "    auth_token = response\n",
    "\n",
    "    # Now grab the interface stats.\n",
    "    # We have to pass in the auth token because this is a protected operation.\n",
    "    status_code, response = get(hostname, \"interfaces\", headers={\"Authentication\": f\"TOKEN {auth_token}\"})\n",
    "    data = json.loads(response)\n",
    "    total_throughput = data[\"eth0\"][\"up\"] + data[\"eth0\"][\"down\"]\n",
    "    print(f\"  Throughput: {total_throughput} bits per second\")"
   ],
   "metadata": {
    "collapsed": false
   }
  },
  {
   "cell_type": "markdown",
   "source": [
    "OK well some are still working and others are failing at login; those would be the upgraded routers.\n",
    "\n",
    "When login fails, let's try the V2 method of logging in."
   ],
   "metadata": {
    "collapsed": false
   }
  },
  {
   "cell_type": "code",
   "execution_count": 8,
   "outputs": [
    {
     "name": "stdout",
     "output_type": "stream",
     "text": [
      "Host TutorRouter-41 is not available\n",
      "Host TutorRouter-42 is up\n",
      "  Logged in\n",
      "  Throughput: 374847 bits per second\n",
      "Host TutorRouter-43 is up\n"
     ]
    },
    {
     "ename": "TypeError",
     "evalue": "'dict' object is not callable",
     "output_type": "error",
     "traceback": [
      "\u001B[0;31m---------------------------------------------------------------------------\u001B[0m",
      "\u001B[0;31mTypeError\u001B[0m                                 Traceback (most recent call last)",
      "Cell \u001B[0;32mIn[8], line 17\u001B[0m\n\u001B[1;32m     14\u001B[0m status_code, response \u001B[38;5;241m=\u001B[39m post(hostname, \u001B[38;5;124m\"\u001B[39m\u001B[38;5;124mlogin\u001B[39m\u001B[38;5;124m\"\u001B[39m, headers\u001B[38;5;241m=\u001B[39m{\u001B[38;5;124m\"\u001B[39m\u001B[38;5;124musername\u001B[39m\u001B[38;5;124m\"\u001B[39m: \u001B[38;5;124m\"\u001B[39m\u001B[38;5;124madmin\u001B[39m\u001B[38;5;124m\"\u001B[39m, \u001B[38;5;124m\"\u001B[39m\u001B[38;5;124mpassword\u001B[39m\u001B[38;5;124m\"\u001B[39m: \u001B[38;5;124m\"\u001B[39m\u001B[38;5;124mPassword123\u001B[39m\u001B[38;5;124m\"\u001B[39m})\n\u001B[1;32m     15\u001B[0m \u001B[38;5;28;01mif\u001B[39;00m status_code \u001B[38;5;241m!=\u001B[39m \u001B[38;5;241m200\u001B[39m:\n\u001B[1;32m     16\u001B[0m     \u001B[38;5;66;03m# OK so we must be on a V2 router. Try this method instead...\u001B[39;00m\n\u001B[0;32m---> 17\u001B[0m     status_code, response \u001B[38;5;241m=\u001B[39m \u001B[43mpost\u001B[49m\u001B[43m(\u001B[49m\u001B[43mhostname\u001B[49m\u001B[43m,\u001B[49m\u001B[43m \u001B[49m\u001B[38;5;124;43m\"\u001B[39;49m\u001B[38;5;124;43mauthenticate\u001B[39;49m\u001B[38;5;124;43m\"\u001B[39;49m\u001B[43m,\u001B[49m\u001B[43m \u001B[49m\u001B[43mheaders\u001B[49m\u001B[38;5;241;43m=\u001B[39;49m\u001B[43m{\u001B[49m\u001B[38;5;124;43m\"\u001B[39;49m\u001B[38;5;124;43mtoken\u001B[39;49m\u001B[38;5;124;43m\"\u001B[39;49m\u001B[43m:\u001B[49m\u001B[43m \u001B[49m\u001B[38;5;124;43m\"\u001B[39;49m\u001B[38;5;124;43mtoken123456\u001B[39;49m\u001B[38;5;124;43m\"\u001B[39;49m\u001B[43m}\u001B[49m\u001B[43m)\u001B[49m\n\u001B[1;32m     18\u001B[0m     \u001B[38;5;28;01mif\u001B[39;00m status_code \u001B[38;5;241m!=\u001B[39m \u001B[38;5;241m200\u001B[39m:\n\u001B[1;32m     19\u001B[0m         \u001B[38;5;28mprint\u001B[39m(\u001B[38;5;124mf\u001B[39m\u001B[38;5;124m\"\u001B[39m\u001B[38;5;124m  Failed to log in\u001B[39m\u001B[38;5;124m\"\u001B[39m)\n",
      "File \u001B[0;32m~/Desktop/Python Tutorial 1/notebooks/../src/tutor_router/scenarios.py:52\u001B[0m, in \u001B[0;36mScenario.post\u001B[0;34m(self, hostname, path, headers)\u001B[0m\n\u001B[1;32m     51\u001B[0m \u001B[38;5;28;01mdef\u001B[39;00m \u001B[38;5;21mpost\u001B[39m(\u001B[38;5;28mself\u001B[39m, hostname, path, headers\u001B[38;5;241m=\u001B[39m\u001B[38;5;28;01mNone\u001B[39;00m):\n\u001B[0;32m---> 52\u001B[0m     \u001B[38;5;28;01mreturn\u001B[39;00m \u001B[38;5;28;43mself\u001B[39;49m\u001B[38;5;241;43m.\u001B[39;49m\u001B[43mrequest\u001B[49m\u001B[43m(\u001B[49m\u001B[43mhostname\u001B[49m\u001B[43m,\u001B[49m\u001B[43m \u001B[49m\u001B[38;5;124;43m\"\u001B[39;49m\u001B[38;5;124;43mPOST\u001B[39;49m\u001B[38;5;124;43m\"\u001B[39;49m\u001B[43m,\u001B[49m\u001B[43m \u001B[49m\u001B[43mpath\u001B[49m\u001B[43m,\u001B[49m\u001B[43m \u001B[49m\u001B[43mheaders\u001B[49m\u001B[43m)\u001B[49m\n",
      "File \u001B[0;32m~/Desktop/Python Tutorial 1/notebooks/../src/tutor_router/scenarios.py:46\u001B[0m, in \u001B[0;36mScenario.request\u001B[0;34m(self, hostname, method, path, headers)\u001B[0m\n\u001B[1;32m     43\u001B[0m     \u001B[38;5;28;01mreturn\u001B[39;00m router\u001B[38;5;241m.\u001B[39mget(path, headers)\n\u001B[1;32m     45\u001B[0m \u001B[38;5;28;01mif\u001B[39;00m method \u001B[38;5;241m==\u001B[39m \u001B[38;5;124m\"\u001B[39m\u001B[38;5;124mpost\u001B[39m\u001B[38;5;124m\"\u001B[39m:\n\u001B[0;32m---> 46\u001B[0m     \u001B[38;5;28;01mreturn\u001B[39;00m \u001B[43mrouter\u001B[49m\u001B[38;5;241;43m.\u001B[39;49m\u001B[43mpost\u001B[49m\u001B[43m(\u001B[49m\u001B[43mpath\u001B[49m\u001B[43m,\u001B[49m\u001B[43m \u001B[49m\u001B[43mheaders\u001B[49m\u001B[43m)\u001B[49m\n",
      "File \u001B[0;32m~/Desktop/Python Tutorial 1/notebooks/../src/tutor_router/pretend_service.py:121\u001B[0m, in \u001B[0;36mpost\u001B[0;34m(self, path, headers)\u001B[0m\n\u001B[1;32m    119\u001B[0m \u001B[38;5;28;01mdef\u001B[39;00m \u001B[38;5;21mpost\u001B[39m(\u001B[38;5;28mself\u001B[39m, path, headers\u001B[38;5;241m=\u001B[39m\u001B[38;5;28;01mNone\u001B[39;00m) \u001B[38;5;241m-\u001B[39m\u001B[38;5;241m>\u001B[39m (\u001B[38;5;28mint\u001B[39m, \u001B[38;5;28mstr\u001B[39m):\n\u001B[1;32m    120\u001B[0m     headers \u001B[38;5;241m=\u001B[39m headers \u001B[38;5;129;01mor\u001B[39;00m {}\n\u001B[0;32m--> 121\u001B[0m     \u001B[38;5;28;01mif\u001B[39;00m path \u001B[38;5;241m==\u001B[39m \u001B[38;5;28mself\u001B[39m\u001B[38;5;241m.\u001B[39m_login_path():\n\u001B[1;32m    122\u001B[0m         \u001B[38;5;28;01mif\u001B[39;00m headers \u001B[38;5;241m==\u001B[39m \u001B[38;5;28mself\u001B[39m\u001B[38;5;241m.\u001B[39m_login_headers():\n\u001B[1;32m    123\u001B[0m             \u001B[38;5;28;01mreturn\u001B[39;00m \u001B[38;5;241m200\u001B[39m, \u001B[38;5;28mself\u001B[39m\u001B[38;5;241m.\u001B[39m_auth_token\n",
      "\u001B[0;31mTypeError\u001B[0m: 'dict' object is not callable"
     ]
    }
   ],
   "source": [
    "import json\n",
    "\n",
    "# Iterate over all routers.\n",
    "for hostname in hosts:\n",
    "    # Perform a health check on the current router.\n",
    "    try:\n",
    "        health = get(hostname, \"healthcheck\")\n",
    "    except NotFoundError:\n",
    "        print(f\"Host {hostname} is not available\")\n",
    "        continue\n",
    "    print(f\"Host {hostname} is up\")\n",
    "\n",
    "    # We need to log in before we can do anything more than health check...\n",
    "    status_code, response = post(hostname, \"login\", headers={\"username\": \"admin\", \"password\": \"Password123\"})\n",
    "    if status_code != 200:\n",
    "        # OK so we must be on a V2 router. Try this method instead...\n",
    "        status_code, response = post(hostname, \"authenticate\", headers={\"token\": \"token123456\"})\n",
    "        if status_code != 200:\n",
    "            print(f\"  Failed to log in\")\n",
    "            continue\n",
    "    print(\"  Logged in\")\n",
    "    auth_token = response\n",
    "\n",
    "    # Now grab the interface stats.\n",
    "    # We have to pass in the auth token because this is a protected operation.\n",
    "    status_code, response = get(hostname, \"interfaces\", headers={\"Authentication\": f\"TOKEN {auth_token}\"})\n",
    "    data = json.loads(response)\n",
    "    total_throughput = data[\"eth0\"][\"up\"] + data[\"eth0\"][\"down\"]\n",
    "    print(f\"  Throughput: {total_throughput} bits per second\")"
   ],
   "metadata": {
    "collapsed": false
   }
  },
  {
   "cell_type": "code",
   "execution_count": 12,
   "outputs": [
    {
     "data": {
      "text/plain": "'authenticate'"
     },
     "execution_count": 12,
     "metadata": {},
     "output_type": "execute_result"
    }
   ],
   "source": [
    "scenario._routers[\"TutorRouter-43\"]._login_path()"
   ],
   "metadata": {
    "collapsed": false
   }
  },
  {
   "cell_type": "markdown",
   "source": [
    "Cool, now we can get the interface stats."
   ],
   "metadata": {
    "collapsed": false
   }
  },
  {
   "cell_type": "code",
   "execution_count": 7,
   "outputs": [
    {
     "name": "stdout",
     "output_type": "stream",
     "text": [
      "Host TutorRouter-1 is up\n",
      "  interfaces: (403) {\"message\": \"Forbidden\"}\n",
      "Host TutorRouter-2 is up\n",
      "  interfaces: (403) {\"message\": \"Forbidden\"}\n",
      "Host TutorRouter-3 is up\n",
      "  interfaces: (403) {\"message\": \"Forbidden\"}\n",
      "Host TutorRouter-4 is up\n",
      "  interfaces: (403) {\"message\": \"Forbidden\"}\n",
      "Host TutorRouter-5 is up\n",
      "  interfaces: (403) {\"message\": \"Forbidden\"}\n",
      "Host TutorRouter-6 is up\n",
      "  interfaces: (403) {\"message\": \"Forbidden\"}\n",
      "Host TutorRouter-7 is up\n",
      "  interfaces: (403) {\"message\": \"Forbidden\"}\n",
      "Host TutorRouter-8 is up\n",
      "  interfaces: (403) {\"message\": \"Forbidden\"}\n",
      "Host TutorRouter-9 is up\n",
      "  interfaces: (403) {\"message\": \"Forbidden\"}\n",
      "Host TutorRouter-10 is up\n",
      "  interfaces: (403) {\"message\": \"Forbidden\"}\n",
      "Host TutorRouter-11 is up\n",
      "  interfaces: (403) {\"message\": \"Forbidden\"}\n",
      "Host TutorRouter-12 is up\n",
      "  interfaces: (403) {\"message\": \"Forbidden\"}\n",
      "Host TutorRouter-13 is up\n",
      "  interfaces: (403) {\"message\": \"Forbidden\"}\n",
      "Host TutorRouter-14 is up\n",
      "  interfaces: (403) {\"message\": \"Forbidden\"}\n",
      "Host TutorRouter-15 is up\n",
      "  interfaces: (403) {\"message\": \"Forbidden\"}\n",
      "Host TutorRouter-16 is up\n",
      "  interfaces: (403) {\"message\": \"Forbidden\"}\n",
      "Host TutorRouter-17 is not available\n",
      "Host TutorRouter-18 is up\n",
      "  interfaces: (403) {\"message\": \"Forbidden\"}\n",
      "Host TutorRouter-19 is up\n",
      "  interfaces: (403) {\"message\": \"Forbidden\"}\n",
      "Host TutorRouter-20 is up\n",
      "  interfaces: (403) {\"message\": \"Forbidden\"}\n"
     ]
    }
   ],
   "source": [
    "# Iterate over all routers\n",
    "for hostname in hosts:\n",
    "    # Perform a health check on the current router.\n",
    "    try:\n",
    "        health = get(hostname, \"healthcheck\")\n",
    "    except NotFoundError:\n",
    "        print(f\"Host {hostname} is not available\")\n",
    "        continue\n",
    "    print(f\"Host {hostname} is up\")\n",
    "\n",
    "    # Now get the interface stats.\n",
    "    status_code, response = get(hostname, \"interfaces\")\n",
    "    print(f\"  interfaces: ({status_code}) {response}\")"
   ],
   "metadata": {
    "collapsed": false
   }
  },
  {
   "cell_type": "markdown",
   "source": [
    "Ah, that function needs login. OK let's do that."
   ],
   "metadata": {
    "collapsed": false
   }
  },
  {
   "cell_type": "code",
   "execution_count": 8,
   "outputs": [
    {
     "name": "stdout",
     "output_type": "stream",
     "text": [
      "Host TutorRouter-1 is up\n",
      "  log in: (200) d50948d3-839c-4a9c-921a-1041510a43e1\n",
      "Host TutorRouter-2 is up\n",
      "  log in: (200) 816bdfb6-4956-4ad7-97bd-3b884ff5593d\n",
      "Host TutorRouter-3 is up\n",
      "  log in: (200) ec48faa8-405c-4877-9a79-0806cfaf8a55\n",
      "Host TutorRouter-4 is up\n",
      "  log in: (200) 77916ae3-15d5-440c-b4d6-c325579b9763\n",
      "Host TutorRouter-5 is up\n",
      "  log in: (200) f2604621-21eb-49c1-a63e-20dc80d5b34f\n",
      "Host TutorRouter-6 is up\n",
      "  log in: (200) 808deec2-1bbe-44c1-970a-c6b03a28a71a\n",
      "Host TutorRouter-7 is up\n",
      "  log in: (200) 492b6368-273d-49c5-b0d1-e25258dc5d81\n",
      "Host TutorRouter-8 is up\n",
      "  log in: (200) 6d851b9f-37b0-4149-99be-2b88a9b2e7d9\n",
      "Host TutorRouter-9 is up\n",
      "  log in: (200) d17237b5-def3-4ce3-ab8c-7bc26b9d08f3\n",
      "Host TutorRouter-10 is up\n",
      "  log in: (200) a5b915e9-7117-40c0-bb0b-4981952baf91\n",
      "Host TutorRouter-11 is up\n",
      "  log in: (200) 51e5404b-edb8-4f8a-8566-614f5385e7f8\n",
      "Host TutorRouter-12 is up\n",
      "  log in: (200) 22158e75-4a6a-4ba8-a676-a593fd6310cc\n",
      "Host TutorRouter-13 is up\n",
      "  log in: (200) 8c75b67c-bbdd-40b5-a752-768de398a539\n",
      "Host TutorRouter-14 is up\n",
      "  log in: (200) 01a65d0d-2bf4-4ebd-81f8-6a52de37b433\n",
      "Host TutorRouter-15 is up\n",
      "  log in: (200) 87d3d8ac-1f3e-43cf-b931-0ac009a61639\n",
      "Host TutorRouter-16 is up\n",
      "  log in: (200) dcf4a180-a25d-4323-aecc-89a4f768dfde\n",
      "Host TutorRouter-17 is not available\n",
      "Host TutorRouter-18 is up\n",
      "  log in: (200) fa3ea2bd-df34-42ba-b0fb-8a748de3d9b8\n",
      "Host TutorRouter-19 is up\n",
      "  log in: (200) 965da82e-59e8-4b1d-89b9-59e450a4a451\n",
      "Host TutorRouter-20 is up\n",
      "  log in: (200) 648c109b-02aa-414c-a702-1e55262e63de\n"
     ]
    }
   ],
   "source": [
    "# Iterate over all routers.\n",
    "for hostname in hosts:\n",
    "    # Perform a health check on the current router.\n",
    "    try:\n",
    "        health = get(hostname, \"healthcheck\")\n",
    "    except NotFoundError:\n",
    "        print(f\"Host {hostname} is not available\")\n",
    "        continue\n",
    "    print(f\"Host {hostname} is up\")\n",
    "\n",
    "    # We need to log in before we can do anything more than health check...\n",
    "    status_code, response = post(hostname, \"login\", headers={\"username\": \"admin\", \"password\": \"Password123\"})\n",
    "    print(f\"  log in: ({status_code}) {response}\")"
   ],
   "metadata": {
    "collapsed": false
   }
  },
  {
   "cell_type": "markdown",
   "source": [
    "The response to login (again: in this simulation) is an auth token that we have to pass in the headers with every request to a protected endpoint.\n",
    "\n",
    "Let's do that.\n",
    "\n",
    "Also, let's not print out the auth token any more :-)"
   ],
   "metadata": {
    "collapsed": false
   }
  },
  {
   "cell_type": "code",
   "execution_count": 9,
   "outputs": [
    {
     "name": "stdout",
     "output_type": "stream",
     "text": [
      "Host TutorRouter-1 is up\n",
      "  Logged in\n",
      "  interfaces: (200) {\"eth0\": {\"up\": 975799, \"down\": 817226}, \"mgmt\": {\"up\": 428990, \"down\": 174309}}\n",
      "Host TutorRouter-2 is up\n",
      "  Logged in\n",
      "  interfaces: (200) {\"eth0\": {\"up\": 188473, \"down\": 219346}, \"mgmt\": {\"up\": 145543, \"down\": 500571}}\n",
      "Host TutorRouter-3 is up\n",
      "  Logged in\n",
      "  interfaces: (200) {\"eth0\": {\"up\": 854882, \"down\": 161629}, \"mgmt\": {\"up\": 251209, \"down\": 192095}}\n",
      "Host TutorRouter-4 is up\n",
      "  Logged in\n",
      "  interfaces: (200) {\"eth0\": {\"up\": 381415, \"down\": 392222}, \"mgmt\": {\"up\": 208751, \"down\": 543973}}\n",
      "Host TutorRouter-5 is up\n",
      "  Logged in\n",
      "  interfaces: (200) {\"eth0\": {\"up\": 258783, \"down\": 90610}, \"mgmt\": {\"up\": 993900, \"down\": 520838}}\n",
      "Host TutorRouter-6 is up\n",
      "  Logged in\n",
      "  interfaces: (200) {\"eth0\": {\"up\": 411358, \"down\": 8292}, \"mgmt\": {\"up\": 599212, \"down\": 536021}}\n",
      "Host TutorRouter-7 is up\n",
      "  Logged in\n",
      "  interfaces: (200) {\"eth0\": {\"up\": 456018, \"down\": 158655}, \"mgmt\": {\"up\": 28408, \"down\": 753009}}\n",
      "Host TutorRouter-8 is up\n",
      "  Logged in\n",
      "  interfaces: (200) {\"eth0\": {\"up\": 159434, \"down\": 120134}, \"mgmt\": {\"up\": 303134, \"down\": 371430}}\n",
      "Host TutorRouter-9 is up\n",
      "  Logged in\n",
      "  interfaces: (200) {\"eth0\": {\"up\": 191625, \"down\": 352848}, \"mgmt\": {\"up\": 740709, \"down\": 928419}}\n",
      "Host TutorRouter-10 is up\n",
      "  Logged in\n",
      "  interfaces: (200) {\"eth0\": {\"up\": 924776, \"down\": 148330}, \"mgmt\": {\"up\": 712540, \"down\": 954725}}\n",
      "Host TutorRouter-11 is up\n",
      "  Logged in\n",
      "  interfaces: (200) {\"eth0\": {\"up\": 451693, \"down\": 935671}, \"mgmt\": {\"up\": 277394, \"down\": 535756}}\n",
      "Host TutorRouter-12 is up\n",
      "  Logged in\n",
      "  interfaces: (200) {\"eth0\": {\"up\": 613756, \"down\": 267799}, \"mgmt\": {\"up\": 839496, \"down\": 559309}}\n",
      "Host TutorRouter-13 is up\n",
      "  Logged in\n",
      "  interfaces: (200) {\"eth0\": {\"up\": 891374, \"down\": 26304}, \"mgmt\": {\"up\": 528725, \"down\": 634877}}\n",
      "Host TutorRouter-14 is up\n",
      "  Logged in\n",
      "  interfaces: (200) {\"eth0\": {\"up\": 796944, \"down\": 759851}, \"mgmt\": {\"up\": 101990, \"down\": 501186}}\n",
      "Host TutorRouter-15 is up\n",
      "  Logged in\n",
      "  interfaces: (200) {\"eth0\": {\"up\": 702637, \"down\": 262739}, \"mgmt\": {\"up\": 873028, \"down\": 85823}}\n",
      "Host TutorRouter-16 is up\n",
      "  Logged in\n",
      "  interfaces: (200) {\"eth0\": {\"up\": 787421, \"down\": 72639}, \"mgmt\": {\"up\": 90879, \"down\": 481626}}\n",
      "Host TutorRouter-17 is not available\n",
      "Host TutorRouter-18 is up\n",
      "  Logged in\n",
      "  interfaces: (200) {\"eth0\": {\"up\": 613893, \"down\": 112888}, \"mgmt\": {\"up\": 806807, \"down\": 860597}}\n",
      "Host TutorRouter-19 is up\n",
      "  Logged in\n",
      "  interfaces: (200) {\"eth0\": {\"up\": 633529, \"down\": 625941}, \"mgmt\": {\"up\": 708801, \"down\": 267823}}\n",
      "Host TutorRouter-20 is up\n",
      "  Logged in\n",
      "  interfaces: (200) {\"eth0\": {\"up\": 514230, \"down\": 546546}, \"mgmt\": {\"up\": 881941, \"down\": 844526}}\n"
     ]
    }
   ],
   "source": [
    "# Iterate over all routers.\n",
    "for hostname in hosts:\n",
    "    # Perform a health check on the current router.\n",
    "    try:\n",
    "        health = get(hostname, \"healthcheck\")\n",
    "    except NotFoundError:\n",
    "        print(f\"Host {hostname} is not available\")\n",
    "        continue\n",
    "    print(f\"Host {hostname} is up\")\n",
    "\n",
    "    # We need to log in before we can do anything more than health check...\n",
    "    status_code, response = post(hostname, \"login\", headers={\"username\": \"admin\", \"password\": \"Password123\"})\n",
    "    if status_code != 200:\n",
    "        print(f\"  Failed to log in\")\n",
    "        continue\n",
    "    print(f\"  Logged in\")\n",
    "    auth_token = response\n",
    "\n",
    "    # Now grab the interface stats.\n",
    "    # We have to pass in the auth token because this is a protected operation.\n",
    "    status_code, response = get(hostname, \"interfaces\", headers={\"Authentication\": f\"TOKEN {auth_token}\"})\n",
    "    if status_code != 200:\n",
    "        print(f\"  Failed to get interface stats\")\n",
    "        continue\n",
    "    print(f\"  Interfaces: ({status_code}) {response}\")"
   ],
   "metadata": {
    "collapsed": false
   }
  },
  {
   "cell_type": "markdown",
   "source": [
    "Noice! Now we can just add the \"up\" and \"down\" for `eth0`, and job done!"
   ],
   "metadata": {
    "collapsed": false
   }
  },
  {
   "cell_type": "code",
   "execution_count": 14,
   "outputs": [
    {
     "name": "stdout",
     "output_type": "stream",
     "text": [
      "Host TutorRouter-21 is up\n",
      "  Logged in\n"
     ]
    },
    {
     "ename": "TypeError",
     "evalue": "string indices must be integers",
     "output_type": "error",
     "traceback": [
      "\u001B[0;31m---------------------------------------------------------------------------\u001B[0m",
      "\u001B[0;31mTypeError\u001B[0m                                 Traceback (most recent call last)",
      "Cell \u001B[0;32mIn[14], line 25\u001B[0m\n\u001B[1;32m     23\u001B[0m     \u001B[38;5;28mprint\u001B[39m(\u001B[38;5;124mf\u001B[39m\u001B[38;5;124m\"\u001B[39m\u001B[38;5;124m  Failed to get interface stats\u001B[39m\u001B[38;5;124m\"\u001B[39m)\n\u001B[1;32m     24\u001B[0m     \u001B[38;5;28;01mcontinue\u001B[39;00m\n\u001B[0;32m---> 25\u001B[0m total_throughput \u001B[38;5;241m=\u001B[39m \u001B[43mresponse\u001B[49m\u001B[43m[\u001B[49m\u001B[38;5;124;43m\"\u001B[39;49m\u001B[38;5;124;43meth0\u001B[39;49m\u001B[38;5;124;43m\"\u001B[39;49m\u001B[43m]\u001B[49m[\u001B[38;5;124m\"\u001B[39m\u001B[38;5;124mup\u001B[39m\u001B[38;5;124m\"\u001B[39m] \u001B[38;5;241m+\u001B[39m response[\u001B[38;5;124m\"\u001B[39m\u001B[38;5;124meth0\u001B[39m\u001B[38;5;124m\"\u001B[39m][\u001B[38;5;124m\"\u001B[39m\u001B[38;5;124mdown\u001B[39m\u001B[38;5;124m\"\u001B[39m]\n\u001B[1;32m     26\u001B[0m \u001B[38;5;28mprint\u001B[39m(\u001B[38;5;124mf\u001B[39m\u001B[38;5;124m\"\u001B[39m\u001B[38;5;124m  Throughput: \u001B[39m\u001B[38;5;132;01m{\u001B[39;00mtotal_throughput\u001B[38;5;132;01m}\u001B[39;00m\u001B[38;5;124m bits per second\u001B[39m\u001B[38;5;124m\"\u001B[39m)\n",
      "\u001B[0;31mTypeError\u001B[0m: string indices must be integers"
     ]
    }
   ],
   "source": [
    "# Iterate over all routers.\n",
    "for hostname in hosts:\n",
    "    # Perform a health check on the current router.\n",
    "    try:\n",
    "        health = get(hostname, \"healthcheck\")\n",
    "    except NotFoundError:\n",
    "        print(f\"Host {hostname} is not available\")\n",
    "        continue\n",
    "    print(f\"Host {hostname} is up\")\n",
    "\n",
    "    # We need to log in before we can do anything more than health check...\n",
    "    status_code, response = post(hostname, \"login\", headers={\"username\": \"admin\", \"password\": \"Password123\"})\n",
    "    if status_code != 200:\n",
    "        print(f\"  Failed to log in\")\n",
    "        continue\n",
    "    print(f\"  Logged in\")\n",
    "    auth_token = response\n",
    "\n",
    "    # Now grab the interface stats.\n",
    "    # We have to pass in the auth token because this is a protected operation.\n",
    "    status_code, response = get(hostname, \"interfaces\", headers={\"Authentication\": f\"TOKEN {auth_token}\"})\n",
    "    if status_code != 200:\n",
    "        print(f\"  Failed to get interface stats\")\n",
    "        continue\n",
    "    total_throughput = response[\"eth0\"][\"up\"] + response[\"eth0\"][\"down\"]\n",
    "    print(f\"  Throughput: {total_throughput} bits per second\")"
   ],
   "metadata": {
    "collapsed": false
   }
  },
  {
   "cell_type": "markdown",
   "source": [
    "WAT?\n",
    "\n",
    "Ah. Turns out the response isn't a Python object, it's a JSON string blob. Let's fix that."
   ],
   "metadata": {
    "collapsed": false
   }
  },
  {
   "cell_type": "code",
   "execution_count": 15,
   "outputs": [
    {
     "name": "stdout",
     "output_type": "stream",
     "text": [
      "Host TutorRouter-21 is up\n",
      "  Throughput: 1432472 bits per second\n",
      "Host TutorRouter-22 is up\n",
      "  Throughput: 1173016 bits per second\n",
      "Host TutorRouter-23 is up\n",
      "  Throughput: 991741 bits per second\n",
      "Host TutorRouter-24 is up\n",
      "  Throughput: 624717 bits per second\n",
      "Host TutorRouter-25 is not available\n",
      "Host TutorRouter-26 is up\n",
      "  Throughput: 1154260 bits per second\n",
      "Host TutorRouter-27 is not available\n",
      "Host TutorRouter-28 is up\n",
      "  Throughput: 1261948 bits per second\n",
      "Host TutorRouter-29 is not available\n",
      "Host TutorRouter-30 is not available\n",
      "Host TutorRouter-31 is up\n",
      "  Throughput: 1446865 bits per second\n",
      "Host TutorRouter-32 is up\n",
      "  Throughput: 1094135 bits per second\n",
      "Host TutorRouter-33 is not available\n",
      "Host TutorRouter-34 is up\n",
      "  Throughput: 1326404 bits per second\n",
      "Host TutorRouter-35 is not available\n",
      "Host TutorRouter-36 is up\n",
      "  Throughput: 1662675 bits per second\n",
      "Host TutorRouter-37 is up\n",
      "  Throughput: 608570 bits per second\n",
      "Host TutorRouter-38 is up\n",
      "  Throughput: 819639 bits per second\n",
      "Host TutorRouter-39 is up\n",
      "  Throughput: 1164402 bits per second\n",
      "Host TutorRouter-40 is up\n",
      "  Throughput: 982965 bits per second\n"
     ]
    }
   ],
   "source": [
    "import json\n",
    "\n",
    "# Iterate over all routers.\n",
    "for hostname in hosts:\n",
    "    # Perform a health check on the current router.\n",
    "    try:\n",
    "        health = get(hostname, \"healthcheck\")\n",
    "    except NotFoundError:\n",
    "        print(f\"Host {hostname} is not available\")\n",
    "        continue\n",
    "    print(f\"Host {hostname} is up\")\n",
    "\n",
    "    # We need to log in before we can do anything more than health check...\n",
    "    status_code, response = post(hostname, \"login\", headers={\"username\": \"admin\", \"password\": \"Password123\"})\n",
    "    if status_code != 200:\n",
    "        print(f\"  Failed to log in\")\n",
    "        continue\n",
    "    auth_token = response\n",
    "\n",
    "    # Now grab the interface stats.\n",
    "    # We have to pass in the auth token because this is a protected operation.\n",
    "    status_code, response = get(hostname, \"interfaces\", headers={\"Authentication\": f\"TOKEN {auth_token}\"})\n",
    "    data = json.loads(response)\n",
    "    total_throughput = data[\"eth0\"][\"up\"] + data[\"eth0\"][\"down\"]\n",
    "    print(f\"  Throughput: {total_throughput} bits per second\")"
   ],
   "metadata": {
    "collapsed": false
   }
  },
  {
   "cell_type": "markdown",
   "source": [
    "Job done!\n",
    "\n",
    "But wait..."
   ],
   "metadata": {
    "collapsed": false
   }
  }
 ],
 "metadata": {
  "kernelspec": {
   "display_name": "Python 3 (ipykernel)",
   "language": "python",
   "name": "python3"
  },
  "language_info": {
   "codemirror_mode": {
    "name": "ipython",
    "version": 3
   },
   "file_extension": ".py",
   "mimetype": "text/x-python",
   "name": "python",
   "nbconvert_exporter": "python",
   "pygments_lexer": "ipython3",
   "version": "3.10.7"
  }
 },
 "nbformat": 4,
 "nbformat_minor": 1
}
