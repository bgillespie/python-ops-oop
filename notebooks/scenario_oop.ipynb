{
 "cells": [
  {
   "cell_type": "markdown",
   "id": "6f292e66",
   "metadata": {},
   "source": [
    "# How can we improve this?\n",
    "\n",
    "Let's take a look at the code we've got so far."
   ]
  },
  {
   "cell_type": "markdown",
   "id": "7002e6f7",
   "metadata": {},
   "source": [
    "The first call we do, for the healthcheck, is the same no matter what kind of router we're hitting."
   ]
  },
  {
   "cell_type": "markdown",
   "id": "e930b331",
   "metadata": {},
   "source": [
    "```python\n",
    "# Iterate over all routers.\n",
    "for hostname in hosts:\n",
    "    # Perform a health check on the current router.\n",
    "    try:\n",
    "        status_code, response = get(hostname, \"healthcheck\")\n",
    "        health = json.loads(response)\n",
    "    except NotFoundError:\n",
    "        print(f\"Host {hostname} is not available\")\n",
    "        continue\n",
    "    print(f\"Host {hostname} is up\")\n",
    "\n",
    "    # Get the firmware version from the healthcheck data\n",
    "    firmware_version = health[\"version\"]\n",
    "```"
   ]
  },
  {
   "cell_type": "markdown",
   "id": "e8aea385",
   "metadata": {},
   "source": [
    "We have to do the login piece differently depending on the router's firmware version. This `if..else` block is going to get larger and larger as new firmware gets rolled out..."
   ]
  },
  {
   "cell_type": "markdown",
   "id": "0efcc3da",
   "metadata": {},
   "source": [
    "```python\n",
    "    # We need to log in before we can do anything more than health check...\n",
    "    if firmware_version == 1:\n",
    "        status_code, response = post(\n",
    "            hostname,\n",
    "            \"login\",\n",
    "            headers={\"username\": \"admin\", \"password\": \"Password123\"}\n",
    "        )\n",
    "    elif firmware_version == 2:\n",
    "        status_code, response = post(\n",
    "            hostname,\n",
    "            \"authenticate/admin\",\n",
    "            headers={\"token\": \"token123456\"}\n",
    "        )\n",
    "    if status_code == 200:\n",
    "        print(f\"  Logged in (v{firmware_version})\")\n",
    "    else:\n",
    "        print(f\"  Failed to log in\")\n",
    "        continue\n",
    "    auth_token = response\n",
    "```"
   ]
  },
  {
   "cell_type": "markdown",
   "id": "f368bd54",
   "metadata": {},
   "source": [
    "When making the request for interface stats (or any other request we choose to do besides login and healthcheck), we have to know how to pass the authentication token in the request, again according to the firmware version."
   ]
  },
  {
   "cell_type": "markdown",
   "id": "dfb7653d",
   "metadata": {},
   "source": [
    "```python\n",
    "    # Now grab the interface stats.\n",
    "    # We have to pass in the auth token because this is a protected operation.\n",
    "    if firmware_version == 1:\n",
    "        status_code, response = get(\n",
    "            hostname, \"interfaces\", headers={\"Token\": auth_token}\n",
    "        )\n",
    "    elif firmware_version == 2:\n",
    "        status_code, response = get(\n",
    "            hostname,\n",
    "            \"interfaces\",\n",
    "            headers={\"Authentication\": f\"TOKEN {auth_token}\"}\n",
    "        )\n",
    "    if status_code != 200:\n",
    "        print(f\"  Failed to get interface stats: {response}\")\n",
    "        continue\n",
    "    \n",
    "    # Response is always JSON, so let's decode that.\n",
    "    iface_stats = json.loads(response)\n",
    "```"
   ]
  },
  {
   "cell_type": "markdown",
   "id": "55c49a5b",
   "metadata": {},
   "source": [
    "The way the data is returned is different, even though the result we want -- interface throughput stats -- is the same. We have to _normalize_ the response.\n",
    "\n",
    "It's also quite possible that future firmware versions would differ in their requests and responses. For example, the throughput might be returned in `kbps` or `mbps`."
   ]
  },
  {
   "cell_type": "markdown",
   "id": "17b48c9c",
   "metadata": {},
   "source": [
    "```python\n",
    "    # Now let's figure out the throughput\n",
    "    if firmware_version == 1:\n",
    "        total_throughput = (\n",
    "            iface_stats[\"eth0\"][\"up\"] + iface_stats[\"eth0\"][\"down\"]\n",
    "        )\n",
    "    elif firmware_version == 2:\n",
    "        total_throughput = (\n",
    "            int(iface_stats[\"eth0\"][\"up\"].split()[0]) * 1000 +\n",
    "            int(iface_stats[\"eth0\"][\"down\"].split()[0]) * 1000\n",
    "        )\n",
    "```"
   ]
  },
  {
   "cell_type": "markdown",
   "id": "dc8a1f46",
   "metadata": {},
   "source": [
    "tl;dr: our goal is simply to get throughput stats from a bunch of routers, but in our program, that purpose is obscured by all the other -- necessary -- logic."
   ]
  },
  {
   "cell_type": "markdown",
   "id": "5a3ae386",
   "metadata": {},
   "source": [
    "We can use **Object Oriented Programming** principles to impose some structure and make things more manageable.\n",
    "\n",
    "In the same order as above:\n",
    "\n",
    "1. **Abstraction**: we can abstract away the logic used to obtain the information we want.\n",
    "2. **Polymorphism**: _(meaning \"many shapes\")_ we can make all the routers _look_ the same to the core logic of our program by presenting operations with the same name that return their results in a normalized form (in this case, always in _numbers_ representing single bits per second).\n",
    "3. **Inheritance**: `TutorRouterV1` and `TutorRouterV2` are both kinds of `TutorRouter`, so the commonalities (like the hostname property and healthcheck method) can be defined in the _\"supertype\"_ `TutorRouter`.\n",
    "4. **Encapsulation**: rather than scattering logic for logging in, making calls and interpreting results; we can bundle them together with the data about each router.\n",
    "\n",
    "To do this we will define _Classes_ to represent routers as _Objects_."
   ]
  },
  {
   "cell_type": "markdown",
   "id": "8c00f313",
   "metadata": {},
   "source": [
    "## Classes and objects"
   ]
  },
  {
   "cell_type": "markdown",
   "id": "29dfefc2",
   "metadata": {},
   "source": [
    "Speaking purely in the sense of human languages for a moment: notice in our scenarios that each router, e.g. `TutorRouter01`, is an _instance_ of a _class_ of devices we know as _Routers_. "
   ]
  },
  {
   "cell_type": "markdown",
   "id": "be9ad1b1",
   "metadata": {},
   "source": [
    "This thinking carries through to Object Oriented terminology.\n",
    "\n",
    "A _class_ is like a template, from which we create _objects_ to represent individual _instances_ of the class.\n",
    "\n",
    "> An **object** is an **instance** of a **class**.\n",
    ">\n",
    "> Confusingly, the term _object_ is often used interchangeably to refer to both _instances_ of a class and the _class_ itself.\n",
    "\n",
    "To give a couple of examples:\n",
    "\n",
    "* `bgillespie` is an instance of the class `Person`.\n",
    "* `router1` is an instance of the class `Router`."
   ]
  },
  {
   "cell_type": "markdown",
   "id": "e277ca36",
   "metadata": {},
   "source": [
    "## Inheritance"
   ]
  },
  {
   "cell_type": "markdown",
   "id": "373238ee",
   "metadata": {},
   "source": [
    "When we speak of _inheritance_ in Object Oriented Programming (OOP) parlance, it's not the same as inheritance in the biological sense. In the OOP context, _inheritance_ is between _classes_ rather than _objects_ (instances). It's more accurate to think of _inheritance_ (in the OOP sense) as an _\"is-a\" relationship_.\n",
    "\n",
    "e.g.:\n",
    "\n",
    "* A `Human` or a `Whale` _is-a_ `Mammal`.\n",
    "* A `Koala` or a `Wallaby` _is-a_ `Marsupial`.\n",
    "* A `Router` or a `Switch` _is-a_ `NetworkDevice`.\n",
    "\n",
    "On the other hand, `michelleyeoh` _isn't_ `janetyeoh`, even though they are both _instances_ of `Human`, so a `michelleyeoh` _object_ wouldn't inherit from a `janetyeoh` object any more than a `jamieleecurtis` object would, in the OOP sense."
   ]
  },
  {
   "cell_type": "markdown",
   "id": "d51d1e17",
   "metadata": {},
   "source": [
    "> Note that unless it's strictly called for, it's often not desirable to define superclasses or class inheritance relations."
   ]
  },
  {
   "cell_type": "markdown",
   "id": "3cded0ca",
   "metadata": {},
   "source": [
    "How does _inheritance_ apply to our scenario?\n",
    "\n",
    "Since there's a lot in common between the different versions of router, let's define a **superclass** (also known as a _parent class_) to represent this notional common kind of router. Later, we'll define **subclasses** to represent each version of router.\n",
    "\n",
    "We need to be careful to only add attributes that are common to **both** kinds of router. For now, it only has a `hostname` field."
   ]
  },
  {
   "cell_type": "markdown",
   "id": "bc1acd2d",
   "metadata": {},
   "source": [
    "```python\n",
    "class TutorRouterClient:\n",
    "    def __init__(self, hostname):\n",
    "        self.hostname = hostname\n",
    "```"
   ]
  },
  {
   "cell_type": "markdown",
   "id": "50d50a0e",
   "metadata": {},
   "source": [
    "> I've called this class `TutorRouter`_`Client`_ to guard against a dangerous illusion: that objects of this class represent things that respond reliably and instantaneously, as if they were wholly in-memory on your own machine (even though in the _simulation_, that's exactly what they are).\n",
    ">\n",
    "> Real routers are operated over the network and may not even respond at all. Calling the class _Client_ makes this clearer."
   ]
  },
  {
   "cell_type": "markdown",
   "id": "f815157c",
   "metadata": {},
   "source": [
    "In a Python class definition, `__init__` is a special method used to initialize an object (instance) of a class. The `self` parameter refers to the object instance and is always the first parameter of _instance methods_. We use the `self` parameter to access the properties and methods of the instance.\n",
    "\n",
    "In this case, the `self` parameter is used to define the `hostname` property on the new instance and initialize it with the value from the `hostname` parameter that will be passed in by callers.\n",
    "\n",
    "As we'll see below, we won't be instantiating `TutorRouterClient` directly, nor calling its `__init__` method or any other of its methods directly. We'll come back to the superclass again a bit later."
   ]
  },
  {
   "cell_type": "markdown",
   "id": "78bd1722",
   "metadata": {},
   "source": [
    "## Polymorphism"
   ]
  },
  {
   "cell_type": "markdown",
   "id": "2cc8031d",
   "metadata": {},
   "source": [
    "In our script, we had logic that performed different operations depending on which kind of router was being addressed, but the _goals_ of those operations were the same, regardless of the version. It'd be nice to be able to make the same calls -- e.g. `get the throughput` -- against the objects and not have to worry about firmware versions.\n",
    "\n",
    "What we're talking about is _Polymorphism_. Routers come in different _shapes_ but we can treat them more or less the same.\n",
    "\n",
    "We can represent both kinds of router as different classes, each of which uses different _methods_ to attain the same goals."
   ]
  },
  {
   "cell_type": "markdown",
   "id": "33c23825",
   "metadata": {},
   "source": [
    "```python\n",
    "class TutorRouterV1Client(TutorRouterClient):\n",
    "    \"\"\"A client for a v1 TutorRouter.\"\"\"\n",
    "    \n",
    "    def __init__(self, hostname):\n",
    "        \"\"\"Initialize a TutorRouterV1Client.\n",
    "        \n",
    "        Args:\n",
    "            hostname: the router's hostname.\n",
    "        \"\"\"\n",
    "        super().__init__(self, hostname)\n",
    "        self._auth_token = None\n",
    "\n",
    "    def login(self, username, password):\n",
    "        \"\"\"Log into the router.\n",
    "        \n",
    "        Args:\n",
    "            username: the user we're logging in.\n",
    "            password: the user's password.\n",
    "            \n",
    "        Raises:\n",
    "            Exception: if there is an error whilst quthenticating.\n",
    "        \"\"\"\n",
    "        status_code, response = post(\n",
    "            self.hostname,\n",
    "            \"login\",\n",
    "            headers={\"username\": username, \"password\": password}\n",
    "        )\n",
    "        if status_code != 200:\n",
    "            raise Exception(\n",
    "                f\"Error whilst authenticating {username} on {self.hostname}\"\n",
    "            )\n",
    "        self._auth_token = response\n",
    "\n",
    "        \n",
    "class TutorRouterV2Client(TutorRouterClient):\n",
    "    \"\"\"A client for a v2 TutorRouter.\"\"\"\n",
    "    \n",
    "    def __init__(self, hostname):\n",
    "        \"\"\"Initialize a TutorRouterV2Client.\n",
    "        \n",
    "        Args:\n",
    "            hostname: the router's hostname.\n",
    "        \"\"\"\n",
    "        super().__init__(self, hostname)\n",
    "        self._token = None\n",
    "\n",
    "        \n",
    "    def login(self, username, password):\n",
    "        \"\"\"Log into the router.\n",
    "        \n",
    "        Args:\n",
    "            username: the user we're logging in.\n",
    "            password: the user's password.\n",
    "            \n",
    "        Raises:\n",
    "            Exception: if there is an error whilst authenticating.\n",
    "        \"\"\"\n",
    "        status_code, response = post(\n",
    "            hostname,\n",
    "            f\"authenticate/{username}\",\n",
    "            headers={\"token\": password}\n",
    "        )\n",
    "        if status_code != 200:\n",
    "            raise Exception(\n",
    "                f\"Error whilst authenticating {username} on {self.hostname}\"\n",
    "            )\n",
    "        self._auth_token = response\n",
    "```"
   ]
  },
  {
   "cell_type": "markdown",
   "id": "68b6c426",
   "metadata": {},
   "source": [
    "In Python, a class inherits from another class by placing the superclass name in parentheses after the class name in the definition. Both new classes _inherit_ from `TutorRouterClient` and thus gain its properties and methods.\n",
    "\n",
    "The methods' _docstrings_ note any `Arg`uments passed in, any exception(s) a method sometimes `Raises` and the data it `Returns`.\n",
    "\n",
    "> This style of docstring comes from [the Google Python Style Guide](https://google.github.io/styleguide/pyguide.html#s3.8.1-comments-in-doc-strings).\n",
    "\n",
    "The `__init__` method calls the superclass' `__init__` method to initialize the hostname, and defines a `_auth_token` property for the new instance.\n",
    "\n",
    "Both classes have the `_auth_token` so why not define this in the superclass? It's quite possible that a future firmware would require an entirely different method of authenticating that's not token-based in the same way, so a token is not common to all current _and future_ subclasses. The same goes for the `POST` call for login: the method of logging in could change, so if that call was baked into the superclass, it could become redundant for some objects.\n",
    "\n",
    "On the other hand, all routers now and in the future will have a `hostname`, so it makes sense to have that in the superclass.\n",
    "\n",
    "Note that we don't need to check the firmware version before each call, because each class only needs to handle its own kind of calls and its own parsing logic."
   ]
  },
  {
   "cell_type": "markdown",
   "id": "a9f44eea",
   "metadata": {},
   "source": [
    "## Encapsulation"
   ]
  },
  {
   "cell_type": "markdown",
   "id": "59aaffad",
   "metadata": {},
   "source": [
    "Recall that we use the `healthcheck` to determine which version of router we're addressing. Where, then, is the best place for this logic?\n",
    "\n",
    "Considering that these new classes will probably become part of a module, it's perfectly reasonable to provide a separate function to make the healthcheck call and return an object of the appropriate type: one of `TutorRouterV1Client` or `TutorRouterV2Client`.\n",
    "\n",
    "Since the technique of determining the type of router is special to TutorRouters, it would also make sense to make this function a **static method** of `TutorRouterClient`.\n",
    "\n",
    "> A **static method** is a method bound to a class, but does not operate directly on an _instance_ of a class.\n",
    "\n",
    "By putting `instantiate` in `TutorRouterClient`, it **encapsulates** related code within the same logical unit that owns it.\n",
    "\n",
    "In fact, everything we've done so far and will do from now involves Encapsulation, because all related methods and properties of an object are bound together in the same class."
   ]
  },
  {
   "cell_type": "markdown",
   "id": "0b5d16cf",
   "metadata": {},
   "source": [
    "```python\n",
    "class TutorRouterClient:\n",
    "    \n",
    "    # ... the rest of the code here ...\n",
    "\n",
    "    @staticmethod\n",
    "    def instantiate(hostname):\n",
    "        \"\"\"Instantiate the correct subtype of TutorRouterClient.\n",
    "        \n",
    "        Makes a call to the `healthcheck` endpoint to determine\n",
    "        the right subtype, according to the `version` field.\n",
    "        \n",
    "        Args:\n",
    "            hostname: the router host name\n",
    "        \n",
    "        Returns:\n",
    "            an initialized subtype of `TutorRouterClient`.\n",
    "        \n",
    "        Raises:\n",
    "            Exception: if the router cannot be reached.\n",
    "            Exception: if the healthcheck cannot be performed.\n",
    "            Exception: if the version cannot be determined.\n",
    "        \"\"\"\n",
    "        status_code, response = get(self.hostname, \"healthcheck\")\n",
    "        if status_code != 200:\n",
    "            raise Exception(\n",
    "                f\"Error whilst performing health check of {hostname}\"\n",
    "            )\n",
    "        health = json.loads(response)\n",
    "        \n",
    "        try:\n",
    "            version = health['version']\n",
    "        except KeyError:\n",
    "            raise Exception(\n",
    "                f\"Could not determine version of {hostname}\"\n",
    "            )\n",
    "        \n",
    "        if version == 1:\n",
    "            return TutorRouterV1Client(hostname)\n",
    "        elif version == 2:\n",
    "            return TutorRouterV2Client(hostname)\n",
    "        else:\n",
    "            raise Exception(\n",
    "                f\"Version {version} of {hostname} not known\"\n",
    "            )\n",
    "```"
   ]
  },
  {
   "cell_type": "markdown",
   "id": "2ee8ea12",
   "metadata": {},
   "source": [
    "> Throughout I've been using `Exception` for all exceptions, just for simplicity. In reality it's better to create our own exception subtypes, but that's for another tutorial."
   ]
  },
  {
   "cell_type": "markdown",
   "id": "4aa28615",
   "metadata": {},
   "source": [
    "You would call this method like so:\n",
    "\n",
    "```python\n",
    "router = TutorRouterClient(hostname)\n",
    "```\n",
    "\n",
    "The type of `router` would be `TutorRouterV1Client` or `TutorRouterV2Client` depending on the healthcheck call. You could then call all the other methods on `router` as usual, provided an exception wasn't thrown."
   ]
  },
  {
   "cell_type": "markdown",
   "id": "4e0735bf",
   "metadata": {},
   "source": [
    "## Abstraction"
   ]
  },
  {
   "cell_type": "markdown",
   "id": "3481af09",
   "metadata": {},
   "source": [
    "Users of our object are only interested in the throughput numbers. They don't care how we determine the firmware version, or what the routers return from the query. Users certainly aren't interested in finding out how to parse the response, nor will they want to deal with different return types.\n",
    "\n",
    "As class authors, we need to _abstract away_ that logic..."
   ]
  },
  {
   "cell_type": "markdown",
   "id": "603a686d",
   "metadata": {},
   "source": [
    "```python\n",
    "class TutorRouterV1Client:\n",
    "    \n",
    "    # ... the rest of the code so far ...\n",
    "    \n",
    "    def _get_interface_stats(self):\n",
    "        \"\"\"Return the interface stats reponse from the router.\n",
    "        \n",
    "        Raises:\n",
    "            Exception: if we get a non-200 response.\n",
    "            \n",
    "        Returns:\n",
    "            See the router API docs.\n",
    "        \"\"\"\n",
    "        status_code, response = get(\n",
    "            self.hostname,\n",
    "            \"interfaces\",\n",
    "            headers={\"Token\": self._auth_token}\n",
    "        )\n",
    "        if status_code != 200:\n",
    "            raise Exception(\n",
    "                \"Failed to get interface stats\"\n",
    "            )\n",
    "        return json.loads(response)\n",
    "    \n",
    "    def get_throughput(self) -> int:\n",
    "        \"\"\"Return the total throughput (up and down) to the router.\n",
    "        \n",
    "        Returns:\n",
    "            the number of bits per second.\n",
    "        \"\"\"\n",
    "        iface_stats = self._get_interface_stats()\n",
    "        total_throughput = (\n",
    "            iface_stats[\"eth0\"][\"up\"] +\n",
    "            iface_stats[\"eth0\"][\"down\"]\n",
    "        )\n",
    "        return total_throughput\n",
    "\n",
    "\n",
    "class TutorRouterV2Client:\n",
    "    \n",
    "    # ... the rest of the code so far ...\n",
    "    \n",
    "    def _get_interface_stats(self):\n",
    "        \"\"\"Return the interface stats reponse from the router.\n",
    "        \n",
    "        Raises:\n",
    "            Exception: if we get a non-200 response.\n",
    "            \n",
    "        Returns:\n",
    "            See the router API docs.\n",
    "        \"\"\"\n",
    "        status_code, response = get(\n",
    "            hostname,\n",
    "            \"interfaces\",\n",
    "            headers={\"Authentication\": f\"TOKEN {auth_token}\"}\n",
    "        )\n",
    "        if status_code != 200:\n",
    "            raise Exception(\n",
    "                \"Failed to get interface stats\"\n",
    "            )\n",
    "        return json.loads(response)\n",
    "    \n",
    "    def get_throughput(self) -> int:\n",
    "        \"\"\"Return the total throughput (up and down) to the router.\n",
    "        \n",
    "        Returns:\n",
    "            the number of bits per second as an integer.\n",
    "        \"\"\"\n",
    "        iface_stats = self._get_interface_stats()\n",
    "        total_throughput = (\n",
    "            int(iface_stats[\"eth0\"][\"up\"].split()[0]) * 1000 +\n",
    "            int(iface_stats[\"eth0\"][\"down\"].split()[0]) * 1000\n",
    "        )\n",
    "        return total_throughput\n",
    "```"
   ]
  },
  {
   "cell_type": "markdown",
   "id": "f58cffee",
   "metadata": {},
   "source": [
    "Here we split the operation into two steps: getting the interface stats from the router, and calculating then returning the throughput. The latter method calls the former method.\n",
    "\n",
    "### Public vs Private methods\n",
    "\n",
    "The `_get_interface_stats` method's name starts with an underscore. This is a Python idiom indicating that the method is **private**, i.e. not for users of the class to call themselves. In truth there is nothing logically in Python to prevent the method from being called from anywhere, it's just idiom and linters that complain. We mark the method private because the output hasn't been sanitised for users, and is not guaranteed to return the same form of data, or even to be present in later versions of the code.\n",
    "\n",
    "The `get_throughput` method is **public**, i.e. for user consumption, so it doesn't start with an underscore.\n",
    "\n",
    "### Type annotations\n",
    "\n",
    "The `-> int` at the end of the method declaration is a **type annotation** telling callers that the return type is `int`. This is also useful for IDEs and linters, which will warn you if the data returned is not the same type as the declaration, most likely indicating a bug.\n",
    "\n",
    "It is also possible to mark the method's parameters with type annotations. For example, we could annotate the `login` method like so:\n",
    "\n",
    "```python\n",
    "    def login(self, username: str, token: str) -> \"TutorRouterClient\":\n",
    "```\n",
    "\n",
    "A few things to note:\n",
    "\n",
    "* `self` is never annotated.\n",
    "* The return type has to be in quotes because as of that point in the program, the class is not yet defined. (There are ways around this, but that's for another time).\n",
    "* We're indicating that we're returning a `TutorRouterClient`, even though the actual return type is one of `TutorRouterV1Client` or `TutorRouterV2Client`, however that's valid because both a `TutorRouterV1Client` **is-a** `TutorRouterClient` and a `TutorRouterV2Client` **is-a** `TutorRouterClient`."
   ]
  },
  {
   "cell_type": "markdown",
   "id": "e1ed1526",
   "metadata": {},
   "source": [
    "Onto [Putting It All Together](scenario_together.ipynb)..."
   ]
  }
 ],
 "metadata": {
  "kernelspec": {
   "display_name": "Python 3 (ipykernel)",
   "language": "python",
   "name": "python3"
  },
  "language_info": {
   "codemirror_mode": {
    "name": "ipython",
    "version": 3
   },
   "file_extension": ".py",
   "mimetype": "text/x-python",
   "name": "python",
   "nbconvert_exporter": "python",
   "pygments_lexer": "ipython3",
   "version": "3.10.10"
  }
 },
 "nbformat": 4,
 "nbformat_minor": 5
}
