{
 "cells": [
  {
   "cell_type": "markdown",
   "metadata": {},
   "source": [
    "# Python OOP for Ops Tutorial\n",
    "\n",
    "This tutorial is to demonstrate the basic principles of Object-Oriented Programming in Python, using an Operations-like scenario. This knowledge will help you take your Operations programming skills to the next level, from basic single-purpose scripts to reusable, flexible code.\n",
    "\n",
    "The core scenario is: you have several remote routers and your task is to determine which of these are busiest. To enable this, you decide to compile throughput metrics on the interfaces of each router as a proxy for \"busy-ness\".\n"
   ]
  },
  {
   "cell_type": "markdown",
   "metadata": {},
   "source": [
    "## Scenario 1\n",
    "\n",
    "At first, all routers are the same. A single, simple script iterates over all routers' addresses, logs in to each and pulls its traffic data. (To focus on the core lesson, the login credentials are the same for all routers. Of course, in real life, no-one would do that these days, right?)\n",
    "\n",
    "## Scenario 2\n",
    "\n",
    "Owing to security concerns, a later version of firmware has been rolled out that changes the API. For Reasons, the rollout of the new firmware could not be completed across the board: some routers have been upgraded, some haven't.\n",
    "Owing to security concerns, a later version of firmware has been rolled out that changes the API. For Reasons, the rollout of the new firmware could not be completed across the board: some routers have been upgraded, some haven't.\n",
    "\n",
    "### Sequence of events:\n",
    "\n",
    "* New TutorRouter firmware is rolled out to some routers. The script can no longer log in to or get traffic data from _all_ the routers in the same way. Modify script\n",
    "    with if/else.\n",
    "    * Observe that further firmware updates will cause headaches...\n",
    "    * Observe that other scripts doing different tasks will have to be modified.\n",
    "\n",
    "### Demonstrate\n",
    "\n",
    "* **Inheritance** - DRYness.\n",
    "  * Each device _is a_ `TutorRouter` with some commonalities, e.g. IP address; health check path is always the same.\n",
    "  * All TutorRouters can output total ingress and total egress.\n",
    "  * Different login methodologies.\n",
    "* **Encapsulation** - contain attributes (properties and methods) together in Objects. Each device _has_...\n",
    "  * **Properties**: IP address/Hostname, set of interfaces.\n",
    "  * **Methods**: a _method_ of logging in, a _method_ for checking health, a _method_ of pulling interface stats.\n",
    "* **Abstraction** - hide implementation details that users of your class don't need or want to deal with.\n",
    "  * Hide the details of how login is achieved.\n",
    "  * Return the data (e.g. interface throughput) in a format that's easy to consume.\n",
    "* **Polymorphism** - allow all routers to be treated the same way transparently.\n",
    "  * Although different \"shapes\", they are all routers with the same functions.\n",
    "  * No special logic should be needed by the user for routers with different firmware."
   ]
  },
  {
   "cell_type": "markdown",
   "metadata": {},
   "source": [
    "### Set up the simulation"
   ]
  },
  {
   "cell_type": "code",
   "execution_count": 1,
   "metadata": {},
   "outputs": [],
   "source": [
    "# Load the libraries\n",
    "import os, sys\n",
    "sys.path.insert(0, \"../src\")\n",
    "from tutor_router.scenarios import Scenario, NotFoundError\n",
    "\n",
    "# Set up the scenario\n",
    "scenario = Scenario.scenario_1()\n",
    "\n",
    "# Make these look a bit like `requests` calls.\n",
    "request = scenario.request\n",
    "get = scenario.get\n",
    "post = scenario.post\n",
    "\n",
    "# Get a list of host names, for convenience.\n",
    "hosts = tuple(scenario.hosts())"
   ]
  },
  {
   "cell_type": "markdown",
   "metadata": {},
   "source": [
    "These are the hosts. We can use these as hostnames."
   ]
  },
  {
   "cell_type": "code",
   "execution_count": 2,
   "metadata": {},
   "outputs": [
    {
     "data": {
      "text/plain": [
       "('TutorRouter-1',\n",
       " 'TutorRouter-2',\n",
       " 'TutorRouter-3',\n",
       " 'TutorRouter-4',\n",
       " 'TutorRouter-5',\n",
       " 'TutorRouter-6',\n",
       " 'TutorRouter-7',\n",
       " 'TutorRouter-8',\n",
       " 'TutorRouter-9',\n",
       " 'TutorRouter-10',\n",
       " 'TutorRouter-11',\n",
       " 'TutorRouter-12',\n",
       " 'TutorRouter-13',\n",
       " 'TutorRouter-14',\n",
       " 'TutorRouter-15',\n",
       " 'TutorRouter-16',\n",
       " 'TutorRouter-17',\n",
       " 'TutorRouter-18',\n",
       " 'TutorRouter-19',\n",
       " 'TutorRouter-20')"
      ]
     },
     "execution_count": 2,
     "metadata": {},
     "output_type": "execute_result"
    }
   ],
   "source": [
    "hosts"
   ]
  },
  {
   "cell_type": "markdown",
   "metadata": {},
   "source": [
    "## Building a typical Ops script\n",
    "\n",
    "**NOTE** keep in mind that this is a _simulation_. It is _somewhat_ like what you'd do with `requests` against real hosts, but not _exactly_ so. In order to concentrate on the core lessons, many details have been left out , particularly around how you'd acquire and use authentication tokens."
   ]
  },
  {
   "cell_type": "markdown",
   "metadata": {},
   "source": [
    "There's a healthcheck endpoint on each router. Let's poll them all first."
   ]
  },
  {
   "cell_type": "code",
   "execution_count": 3,
   "metadata": {},
   "outputs": [
    {
     "name": "stdout",
     "output_type": "stream",
     "text": [
      "(200, '{\"host\": \"TutorRouter-1\", \"version\": 1, \"health\": \"good\"}')\n",
      "(200, '{\"host\": \"TutorRouter-2\", \"version\": 1, \"health\": \"good\"}')\n",
      "(200, '{\"host\": \"TutorRouter-3\", \"version\": 1, \"health\": \"good\"}')\n",
      "(200, '{\"host\": \"TutorRouter-4\", \"version\": 1, \"health\": \"good\"}')\n",
      "(200, '{\"host\": \"TutorRouter-5\", \"version\": 1, \"health\": \"good\"}')\n",
      "(200, '{\"host\": \"TutorRouter-6\", \"version\": 1, \"health\": \"good\"}')\n",
      "(200, '{\"host\": \"TutorRouter-7\", \"version\": 1, \"health\": \"good\"}')\n"
     ]
    },
    {
     "ename": "NotFoundError",
     "evalue": "Connection error",
     "output_type": "error",
     "traceback": [
      "\u001b[0;31m---------------------------------------------------------------------------\u001b[0m",
      "\u001b[0;31mNotFoundError\u001b[0m                             Traceback (most recent call last)",
      "Cell \u001b[0;32mIn[3], line 5\u001b[0m\n\u001b[1;32m      1\u001b[0m \u001b[38;5;66;03m# Iterate over all routers\u001b[39;00m\n\u001b[1;32m      2\u001b[0m \u001b[38;5;28;01mfor\u001b[39;00m hostname \u001b[38;5;129;01min\u001b[39;00m scenario\u001b[38;5;241m.\u001b[39mhosts():\n\u001b[1;32m      3\u001b[0m \n\u001b[1;32m      4\u001b[0m     \u001b[38;5;66;03m# Perform a health check on the current router.\u001b[39;00m\n\u001b[0;32m----> 5\u001b[0m     health \u001b[38;5;241m=\u001b[39m \u001b[43mscenario\u001b[49m\u001b[38;5;241;43m.\u001b[39;49m\u001b[43mget\u001b[49m\u001b[43m(\u001b[49m\u001b[43mhostname\u001b[49m\u001b[43m,\u001b[49m\u001b[43m \u001b[49m\u001b[38;5;124;43m\"\u001b[39;49m\u001b[38;5;124;43mhealthcheck\u001b[39;49m\u001b[38;5;124;43m\"\u001b[39;49m\u001b[43m)\u001b[49m\n\u001b[1;32m      6\u001b[0m     \u001b[38;5;28mprint\u001b[39m(health)\n",
      "File \u001b[0;32m~/Projects/python-ops-oop/notebooks/../src/tutor_router/scenarios.py:49\u001b[0m, in \u001b[0;36mScenario.get\u001b[0;34m(self, hostname, path, headers)\u001b[0m\n\u001b[1;32m     48\u001b[0m \u001b[38;5;28;01mdef\u001b[39;00m \u001b[38;5;21mget\u001b[39m(\u001b[38;5;28mself\u001b[39m, hostname, path, headers\u001b[38;5;241m=\u001b[39m\u001b[38;5;28;01mNone\u001b[39;00m):\n\u001b[0;32m---> 49\u001b[0m     \u001b[38;5;28;01mreturn\u001b[39;00m \u001b[38;5;28;43mself\u001b[39;49m\u001b[38;5;241;43m.\u001b[39;49m\u001b[43mrequest\u001b[49m\u001b[43m(\u001b[49m\u001b[43mhostname\u001b[49m\u001b[43m,\u001b[49m\u001b[43m \u001b[49m\u001b[38;5;124;43m\"\u001b[39;49m\u001b[38;5;124;43mGET\u001b[39;49m\u001b[38;5;124;43m\"\u001b[39;49m\u001b[43m,\u001b[49m\u001b[43m \u001b[49m\u001b[43mpath\u001b[49m\u001b[43m,\u001b[49m\u001b[43m \u001b[49m\u001b[43mheaders\u001b[49m\u001b[43m)\u001b[49m\n",
      "File \u001b[0;32m~/Projects/python-ops-oop/notebooks/../src/tutor_router/scenarios.py:43\u001b[0m, in \u001b[0;36mScenario.request\u001b[0;34m(self, hostname, method, path, headers)\u001b[0m\n\u001b[1;32m     40\u001b[0m method \u001b[38;5;241m=\u001b[39m method\u001b[38;5;241m.\u001b[39mlower()\n\u001b[1;32m     42\u001b[0m \u001b[38;5;28;01mif\u001b[39;00m method \u001b[38;5;241m==\u001b[39m \u001b[38;5;124m\"\u001b[39m\u001b[38;5;124mget\u001b[39m\u001b[38;5;124m\"\u001b[39m:\n\u001b[0;32m---> 43\u001b[0m     \u001b[38;5;28;01mreturn\u001b[39;00m \u001b[43mrouter\u001b[49m\u001b[38;5;241;43m.\u001b[39;49m\u001b[43mget\u001b[49m\u001b[43m(\u001b[49m\u001b[43mpath\u001b[49m\u001b[43m,\u001b[49m\u001b[43m \u001b[49m\u001b[43mheaders\u001b[49m\u001b[43m)\u001b[49m\n\u001b[1;32m     45\u001b[0m \u001b[38;5;28;01mif\u001b[39;00m method \u001b[38;5;241m==\u001b[39m \u001b[38;5;124m\"\u001b[39m\u001b[38;5;124mpost\u001b[39m\u001b[38;5;124m\"\u001b[39m:\n\u001b[1;32m     46\u001b[0m     \u001b[38;5;28;01mreturn\u001b[39;00m router\u001b[38;5;241m.\u001b[39mpost(path, headers)\n",
      "File \u001b[0;32m~/Projects/python-ops-oop/notebooks/../src/tutor_router/pretend_service.py:136\u001b[0m, in \u001b[0;36mTutorRouter.get\u001b[0;34m(self, url, headers)\u001b[0m\n\u001b[1;32m    134\u001b[0m         \u001b[38;5;28;01mreturn\u001b[39;00m \u001b[38;5;241m200\u001b[39m, \u001b[38;5;28mself\u001b[39m\u001b[38;5;241m.\u001b[39m_healthcheck()\n\u001b[1;32m    135\u001b[0m     \u001b[38;5;28;01melse\u001b[39;00m:\n\u001b[0;32m--> 136\u001b[0m         \u001b[38;5;28;01mraise\u001b[39;00m NotFoundError(\u001b[38;5;124mf\u001b[39m\u001b[38;5;124m\"\u001b[39m\u001b[38;5;124mConnection error\u001b[39m\u001b[38;5;124m\"\u001b[39m)\n\u001b[1;32m    138\u001b[0m \u001b[38;5;66;03m# Anything except healthcheck requires login.\u001b[39;00m\n\u001b[1;32m    139\u001b[0m \u001b[38;5;28;01mif\u001b[39;00m \u001b[38;5;129;01mnot\u001b[39;00m \u001b[38;5;28mself\u001b[39m\u001b[38;5;241m.\u001b[39m_check_auth(headers):\n",
      "\u001b[0;31mNotFoundError\u001b[0m: Connection error"
     ]
    }
   ],
   "source": [
    "# Iterate over all routers\n",
    "for hostname in scenario.hosts():\n",
    "\n",
    "    # Perform a health check on the current router.\n",
    "    health = scenario.get(hostname, \"healthcheck\")\n",
    "    print(health)"
   ]
  },
  {
   "cell_type": "markdown",
   "metadata": {},
   "source": [
    "Bummer, some of them are down. Never mind, we can catch that exception and ignore those routers until they are fixed."
   ]
  },
  {
   "cell_type": "code",
   "execution_count": 4,
   "metadata": {},
   "outputs": [
    {
     "name": "stdout",
     "output_type": "stream",
     "text": [
      "Host TutorRouter-1 is up\n",
      "Host TutorRouter-2 is up\n",
      "Host TutorRouter-3 is up\n",
      "Host TutorRouter-4 is up\n",
      "Host TutorRouter-5 is up\n",
      "Host TutorRouter-6 is up\n",
      "Host TutorRouter-7 is up\n",
      "Host TutorRouter-8 is not available\n",
      "Host TutorRouter-9 is up\n",
      "Host TutorRouter-10 is up\n",
      "Host TutorRouter-11 is not available\n",
      "Host TutorRouter-12 is up\n",
      "Host TutorRouter-13 is up\n",
      "Host TutorRouter-14 is not available\n",
      "Host TutorRouter-15 is not available\n",
      "Host TutorRouter-16 is up\n",
      "Host TutorRouter-17 is up\n",
      "Host TutorRouter-18 is up\n",
      "Host TutorRouter-19 is up\n",
      "Host TutorRouter-20 is not available\n"
     ]
    }
   ],
   "source": [
    "# Iterate over all routers.\n",
    "for hostname in hosts:\n",
    "    # Perform a health check on the current router.\n",
    "    try:\n",
    "        health = get(hostname, \"healthcheck\")\n",
    "    except NotFoundError:\n",
    "        print(f\"Host {hostname} is not available\")\n",
    "        continue\n",
    "    print(f\"Host {hostname} is up\")"
   ]
  },
  {
   "cell_type": "markdown",
   "metadata": {},
   "source": [
    "Cool, now we can get the interface stats."
   ]
  },
  {
   "cell_type": "code",
   "execution_count": 5,
   "metadata": {},
   "outputs": [
    {
     "name": "stdout",
     "output_type": "stream",
     "text": [
      "Host TutorRouter-1 is up\n",
      "  interfaces: (403) {\"message\": \"Forbidden\"}\n",
      "Host TutorRouter-2 is up\n",
      "  interfaces: (403) {\"message\": \"Forbidden\"}\n",
      "Host TutorRouter-3 is up\n",
      "  interfaces: (403) {\"message\": \"Forbidden\"}\n",
      "Host TutorRouter-4 is up\n",
      "  interfaces: (403) {\"message\": \"Forbidden\"}\n",
      "Host TutorRouter-5 is up\n",
      "  interfaces: (403) {\"message\": \"Forbidden\"}\n",
      "Host TutorRouter-6 is up\n",
      "  interfaces: (403) {\"message\": \"Forbidden\"}\n",
      "Host TutorRouter-7 is up\n",
      "  interfaces: (403) {\"message\": \"Forbidden\"}\n",
      "Host TutorRouter-8 is not available\n",
      "Host TutorRouter-9 is up\n",
      "  interfaces: (403) {\"message\": \"Forbidden\"}\n",
      "Host TutorRouter-10 is up\n",
      "  interfaces: (403) {\"message\": \"Forbidden\"}\n",
      "Host TutorRouter-11 is not available\n",
      "Host TutorRouter-12 is up\n",
      "  interfaces: (403) {\"message\": \"Forbidden\"}\n",
      "Host TutorRouter-13 is up\n",
      "  interfaces: (403) {\"message\": \"Forbidden\"}\n",
      "Host TutorRouter-14 is not available\n",
      "Host TutorRouter-15 is not available\n",
      "Host TutorRouter-16 is up\n",
      "  interfaces: (403) {\"message\": \"Forbidden\"}\n",
      "Host TutorRouter-17 is up\n",
      "  interfaces: (403) {\"message\": \"Forbidden\"}\n",
      "Host TutorRouter-18 is up\n",
      "  interfaces: (403) {\"message\": \"Forbidden\"}\n",
      "Host TutorRouter-19 is up\n",
      "  interfaces: (403) {\"message\": \"Forbidden\"}\n",
      "Host TutorRouter-20 is not available\n"
     ]
    }
   ],
   "source": [
    "# Iterate over all routers\n",
    "for hostname in hosts:\n",
    "    # Perform a health check on the current router.\n",
    "    try:\n",
    "        health = get(hostname, \"healthcheck\")\n",
    "    except NotFoundError:\n",
    "        print(f\"Host {hostname} is not available\")\n",
    "        continue\n",
    "    print(f\"Host {hostname} is up\")\n",
    "\n",
    "    # Now get the interface stats.\n",
    "    status_code, response = get(hostname, \"interfaces\")\n",
    "    print(f\"  interfaces: ({status_code}) {response}\")"
   ]
  },
  {
   "cell_type": "markdown",
   "metadata": {},
   "source": [
    "Ah, that function needs login. OK let's do that."
   ]
  },
  {
   "cell_type": "code",
   "execution_count": 6,
   "metadata": {},
   "outputs": [
    {
     "name": "stdout",
     "output_type": "stream",
     "text": [
      "Host TutorRouter-1 is up\n",
      "  log in: (200) faca9e13-8f6f-4923-9541-d73fb721247a\n",
      "Host TutorRouter-2 is up\n",
      "  log in: (200) 3a14259c-3c95-4d44-b075-99dc79bc8cb6\n",
      "Host TutorRouter-3 is up\n",
      "  log in: (200) 8e387407-a59b-4c45-b829-c1fd28a6a2c4\n",
      "Host TutorRouter-4 is up\n",
      "  log in: (200) c1dc5710-a8d9-4a7f-90d5-a0b90855f756\n",
      "Host TutorRouter-5 is up\n",
      "  log in: (200) d70b3a6a-cea3-4721-99f6-3708e625b910\n",
      "Host TutorRouter-6 is up\n",
      "  log in: (200) 9158b89f-2735-4904-84b6-6bfea70fad53\n",
      "Host TutorRouter-7 is up\n",
      "  log in: (200) 037f4b9b-ec7b-441d-8b9e-b2abb316504f\n",
      "Host TutorRouter-8 is not available\n",
      "Host TutorRouter-9 is up\n",
      "  log in: (200) b0d5de7a-6962-4b5e-acf6-523f8751e7d8\n",
      "Host TutorRouter-10 is up\n",
      "  log in: (200) 94c661e7-0a30-45c0-a2ee-73b8048482d1\n",
      "Host TutorRouter-11 is not available\n",
      "Host TutorRouter-12 is up\n",
      "  log in: (200) b788ae0c-0b5f-4865-ab9b-52a95d5aaf74\n",
      "Host TutorRouter-13 is up\n",
      "  log in: (200) 7d6e0bdb-ba40-43f2-91f2-7a08368b3592\n",
      "Host TutorRouter-14 is not available\n",
      "Host TutorRouter-15 is not available\n",
      "Host TutorRouter-16 is up\n",
      "  log in: (200) 4097ad22-118b-4016-9557-63cf18f4ff87\n",
      "Host TutorRouter-17 is up\n",
      "  log in: (200) 1812a0d2-2dfa-41bf-9f79-6cdf6c74f3b5\n",
      "Host TutorRouter-18 is up\n",
      "  log in: (200) fadd5ff3-0567-4b60-b7d8-f487299140fc\n",
      "Host TutorRouter-19 is up\n",
      "  log in: (200) 478c4922-ed28-47ca-a475-141dd857e103\n",
      "Host TutorRouter-20 is not available\n"
     ]
    }
   ],
   "source": [
    "# Iterate over all routers.\n",
    "for hostname in hosts:\n",
    "    # Perform a health check on the current router.\n",
    "    try:\n",
    "        health = get(hostname, \"healthcheck\")\n",
    "    except NotFoundError:\n",
    "        print(f\"Host {hostname} is not available\")\n",
    "        continue\n",
    "    print(f\"Host {hostname} is up\")\n",
    "\n",
    "    # We need to log in before we can do anything more than health check...\n",
    "    status_code, response = post(hostname, \"login\", headers={\"username\": \"admin\", \"password\": \"Password123\"})\n",
    "    print(f\"  log in: ({status_code}) {response}\")"
   ]
  },
  {
   "cell_type": "markdown",
   "metadata": {},
   "source": [
    "The response to login (again: in this simulation) is an auth token that we have to pass in the headers with every request to a protected endpoint.\n",
    "\n",
    "Let's do that.\n",
    "\n",
    "Also, let's not print out the auth token any more :-)"
   ]
  },
  {
   "cell_type": "code",
   "execution_count": 7,
   "metadata": {},
   "outputs": [
    {
     "name": "stdout",
     "output_type": "stream",
     "text": [
      "Host TutorRouter-1 is up\n",
      "  Logged in\n",
      "  Interfaces: (200) {\"eth0\": {\"up\": 827712, \"down\": 754591}, \"mgmt\": {\"up\": 735201, \"down\": 697089}}\n",
      "Host TutorRouter-2 is up\n",
      "  Logged in\n",
      "  Interfaces: (200) {\"eth0\": {\"up\": 785745, \"down\": 385503}, \"mgmt\": {\"up\": 435444, \"down\": 457297}}\n",
      "Host TutorRouter-3 is up\n",
      "  Logged in\n",
      "  Interfaces: (200) {\"eth0\": {\"up\": 340029, \"down\": 122586}, \"mgmt\": {\"up\": 919619, \"down\": 476388}}\n",
      "Host TutorRouter-4 is up\n",
      "  Logged in\n",
      "  Interfaces: (200) {\"eth0\": {\"up\": 179571, \"down\": 177236}, \"mgmt\": {\"up\": 631625, \"down\": 125410}}\n",
      "Host TutorRouter-5 is up\n",
      "  Logged in\n",
      "  Interfaces: (200) {\"eth0\": {\"up\": 509555, \"down\": 694249}, \"mgmt\": {\"up\": 939222, \"down\": 29907}}\n",
      "Host TutorRouter-6 is up\n",
      "  Logged in\n",
      "  Interfaces: (200) {\"eth0\": {\"up\": 963076, \"down\": 583812}, \"mgmt\": {\"up\": 11015, \"down\": 758043}}\n",
      "Host TutorRouter-7 is up\n",
      "  Logged in\n",
      "  Interfaces: (200) {\"eth0\": {\"up\": 553695, \"down\": 822265}, \"mgmt\": {\"up\": 534772, \"down\": 326094}}\n",
      "Host TutorRouter-8 is not available\n",
      "Host TutorRouter-9 is up\n",
      "  Logged in\n",
      "  Interfaces: (200) {\"eth0\": {\"up\": 291821, \"down\": 712791}, \"mgmt\": {\"up\": 753232, \"down\": 493820}}\n",
      "Host TutorRouter-10 is up\n",
      "  Logged in\n",
      "  Interfaces: (200) {\"eth0\": {\"up\": 885881, \"down\": 113690}, \"mgmt\": {\"up\": 891801, \"down\": 186192}}\n",
      "Host TutorRouter-11 is not available\n",
      "Host TutorRouter-12 is up\n",
      "  Logged in\n",
      "  Interfaces: (200) {\"eth0\": {\"up\": 303681, \"down\": 236933}, \"mgmt\": {\"up\": 504966, \"down\": 261224}}\n",
      "Host TutorRouter-13 is up\n",
      "  Logged in\n",
      "  Interfaces: (200) {\"eth0\": {\"up\": 928355, \"down\": 795346}, \"mgmt\": {\"up\": 338637, \"down\": 328861}}\n",
      "Host TutorRouter-14 is not available\n",
      "Host TutorRouter-15 is not available\n",
      "Host TutorRouter-16 is up\n",
      "  Logged in\n",
      "  Interfaces: (200) {\"eth0\": {\"up\": 70994, \"down\": 51494}, \"mgmt\": {\"up\": 605791, \"down\": 692643}}\n",
      "Host TutorRouter-17 is up\n",
      "  Logged in\n",
      "  Interfaces: (200) {\"eth0\": {\"up\": 572401, \"down\": 64314}, \"mgmt\": {\"up\": 279292, \"down\": 627828}}\n",
      "Host TutorRouter-18 is up\n",
      "  Logged in\n",
      "  Interfaces: (200) {\"eth0\": {\"up\": 27641, \"down\": 722591}, \"mgmt\": {\"up\": 516171, \"down\": 945582}}\n",
      "Host TutorRouter-19 is up\n",
      "  Logged in\n",
      "  Interfaces: (200) {\"eth0\": {\"up\": 291082, \"down\": 648462}, \"mgmt\": {\"up\": 320638, \"down\": 582130}}\n",
      "Host TutorRouter-20 is not available\n"
     ]
    }
   ],
   "source": [
    "# Iterate over all routers.\n",
    "for hostname in hosts:\n",
    "    # Perform a health check on the current router.\n",
    "    try:\n",
    "        health = get(hostname, \"healthcheck\")\n",
    "    except NotFoundError:\n",
    "        print(f\"Host {hostname} is not available\")\n",
    "        continue\n",
    "    print(f\"Host {hostname} is up\")\n",
    "\n",
    "    # We need to log in before we can do anything more than health check...\n",
    "    status_code, response = post(hostname, \"login\", headers={\"username\": \"admin\", \"password\": \"Password123\"})\n",
    "    if status_code != 200:\n",
    "        print(f\"  Failed to log in\")\n",
    "        continue\n",
    "    print(f\"  Logged in\")\n",
    "    auth_token = response\n",
    "\n",
    "    # Now grab the interface stats.\n",
    "    # We have to pass in the auth token because this is a protected operation.\n",
    "    status_code, response = get(hostname, \"interfaces\", headers={\"Token\": auth_token})\n",
    "    if status_code != 200:\n",
    "        print(f\"  Failed to get interface stats: {response}\")\n",
    "        continue\n",
    "    print(f\"  Interfaces: ({status_code}) {response}\")"
   ]
  },
  {
   "cell_type": "markdown",
   "metadata": {},
   "source": [
    "Noice! Now we can just add the \"up\" and \"down\" for `eth0`..."
   ]
  },
  {
   "cell_type": "code",
   "execution_count": 8,
   "metadata": {},
   "outputs": [
    {
     "name": "stdout",
     "output_type": "stream",
     "text": [
      "Host TutorRouter-1 is up\n",
      "  Logged in\n"
     ]
    },
    {
     "ename": "TypeError",
     "evalue": "string indices must be integers",
     "output_type": "error",
     "traceback": [
      "\u001b[0;31m---------------------------------------------------------------------------\u001b[0m",
      "\u001b[0;31mTypeError\u001b[0m                                 Traceback (most recent call last)",
      "Cell \u001b[0;32mIn[8], line 25\u001b[0m\n\u001b[1;32m     23\u001b[0m     \u001b[38;5;28mprint\u001b[39m(\u001b[38;5;124mf\u001b[39m\u001b[38;5;124m\"\u001b[39m\u001b[38;5;124m  Failed to get interface stats\u001b[39m\u001b[38;5;124m\"\u001b[39m)\n\u001b[1;32m     24\u001b[0m     \u001b[38;5;28;01mcontinue\u001b[39;00m\n\u001b[0;32m---> 25\u001b[0m total_throughput \u001b[38;5;241m=\u001b[39m \u001b[43mresponse\u001b[49m\u001b[43m[\u001b[49m\u001b[38;5;124;43m\"\u001b[39;49m\u001b[38;5;124;43meth0\u001b[39;49m\u001b[38;5;124;43m\"\u001b[39;49m\u001b[43m]\u001b[49m[\u001b[38;5;124m\"\u001b[39m\u001b[38;5;124mup\u001b[39m\u001b[38;5;124m\"\u001b[39m] \u001b[38;5;241m+\u001b[39m response[\u001b[38;5;124m\"\u001b[39m\u001b[38;5;124meth0\u001b[39m\u001b[38;5;124m\"\u001b[39m][\u001b[38;5;124m\"\u001b[39m\u001b[38;5;124mdown\u001b[39m\u001b[38;5;124m\"\u001b[39m]\n\u001b[1;32m     26\u001b[0m \u001b[38;5;28mprint\u001b[39m(\u001b[38;5;124mf\u001b[39m\u001b[38;5;124m\"\u001b[39m\u001b[38;5;124m  Throughput: \u001b[39m\u001b[38;5;132;01m{\u001b[39;00mtotal_throughput\u001b[38;5;132;01m}\u001b[39;00m\u001b[38;5;124m bits per second\u001b[39m\u001b[38;5;124m\"\u001b[39m)\n",
      "\u001b[0;31mTypeError\u001b[0m: string indices must be integers"
     ]
    }
   ],
   "source": [
    "# Iterate over all routers.\n",
    "for hostname in hosts:\n",
    "    # Perform a health check on the current router.\n",
    "    try:\n",
    "        health = get(hostname, \"healthcheck\")\n",
    "    except NotFoundError:\n",
    "        print(f\"Host {hostname} is not available\")\n",
    "        continue\n",
    "    print(f\"Host {hostname} is up\")\n",
    "\n",
    "    # We need to log in before we can do anything more than health check...\n",
    "    status_code, response = post(hostname, \"login\", headers={\"username\": \"admin\", \"password\": \"Password123\"})\n",
    "    if status_code != 200:\n",
    "        print(f\"  Failed to log in\")\n",
    "        continue\n",
    "    print(f\"  Logged in\")\n",
    "    auth_token = response\n",
    "\n",
    "    # Now grab the interface stats.\n",
    "    # We have to pass in the auth token because this is a protected operation.\n",
    "    status_code, response = get(hostname, \"interfaces\", headers={\"Token\": auth_token})\n",
    "    if status_code != 200:\n",
    "        print(f\"  Failed to get interface stats\")\n",
    "        continue\n",
    "    total_throughput = response[\"eth0\"][\"up\"] + response[\"eth0\"][\"down\"]\n",
    "    print(f\"  Throughput: {total_throughput} bits per second\")"
   ]
  },
  {
   "cell_type": "markdown",
   "metadata": {},
   "source": [
    "What the heck does that mean?\n",
    "\n",
    "Ah. Turns out the response isn't a Python object, it's a JSON string blob. Let's fix that."
   ]
  },
  {
   "cell_type": "code",
   "execution_count": 9,
   "metadata": {},
   "outputs": [
    {
     "name": "stdout",
     "output_type": "stream",
     "text": [
      "Host TutorRouter-1 is up\n",
      "  Throughput: 1582303 bits per second\n",
      "Host TutorRouter-2 is up\n",
      "  Throughput: 1171248 bits per second\n",
      "Host TutorRouter-3 is up\n",
      "  Throughput: 462615 bits per second\n",
      "Host TutorRouter-4 is up\n",
      "  Throughput: 356807 bits per second\n",
      "Host TutorRouter-5 is up\n",
      "  Throughput: 1203804 bits per second\n",
      "Host TutorRouter-6 is up\n",
      "  Throughput: 1546888 bits per second\n",
      "Host TutorRouter-7 is up\n",
      "  Throughput: 1375960 bits per second\n",
      "Host TutorRouter-8 is not available\n",
      "Host TutorRouter-9 is up\n",
      "  Throughput: 1004612 bits per second\n",
      "Host TutorRouter-10 is up\n",
      "  Throughput: 999571 bits per second\n",
      "Host TutorRouter-11 is not available\n",
      "Host TutorRouter-12 is up\n",
      "  Throughput: 540614 bits per second\n",
      "Host TutorRouter-13 is up\n",
      "  Throughput: 1723701 bits per second\n",
      "Host TutorRouter-14 is not available\n",
      "Host TutorRouter-15 is not available\n",
      "Host TutorRouter-16 is up\n",
      "  Throughput: 122488 bits per second\n",
      "Host TutorRouter-17 is up\n",
      "  Throughput: 636715 bits per second\n",
      "Host TutorRouter-18 is up\n",
      "  Throughput: 750232 bits per second\n",
      "Host TutorRouter-19 is up\n",
      "  Throughput: 939544 bits per second\n",
      "Host TutorRouter-20 is not available\n"
     ]
    }
   ],
   "source": [
    "import json\n",
    "\n",
    "# Iterate over all routers.\n",
    "for hostname in hosts:\n",
    "    # Perform a health check on the current router.\n",
    "    try:\n",
    "        health = get(hostname, \"healthcheck\")\n",
    "    except NotFoundError:\n",
    "        print(f\"Host {hostname} is not available\")\n",
    "        continue\n",
    "    print(f\"Host {hostname} is up\")\n",
    "\n",
    "    # We need to log in before we can do anything more than health check...\n",
    "    status_code, response = post(hostname, \"login\", headers={\"username\": \"admin\", \"password\": \"Password123\"})\n",
    "    if status_code != 200:\n",
    "        print(f\"  Failed to log in\")\n",
    "        continue\n",
    "    auth_token = response\n",
    "\n",
    "    # Now grab the interface stats.\n",
    "    # We have to pass in the auth token because this is a protected operation.\n",
    "    status_code, response = get(hostname, \"interfaces\", headers={\"Token\": auth_token})\n",
    "    data = json.loads(response)\n",
    "    total_throughput = data[\"eth0\"][\"up\"] + data[\"eth0\"][\"down\"]\n",
    "    print(f\"  Throughput: {total_throughput} bits per second\")"
   ]
  },
  {
   "cell_type": "markdown",
   "metadata": {},
   "source": [
    "Job done!\n",
    "\n",
    "But wait..."
   ]
  }
 ],
 "metadata": {
  "kernelspec": {
   "display_name": "Python 3 (ipykernel)",
   "language": "python",
   "name": "python3"
  },
  "language_info": {
   "codemirror_mode": {
    "name": "ipython",
    "version": 3
   },
   "file_extension": ".py",
   "mimetype": "text/x-python",
   "name": "python",
   "nbconvert_exporter": "python",
   "pygments_lexer": "ipython3",
   "version": "3.10.7"
  }
 },
 "nbformat": 4,
 "nbformat_minor": 1
}
