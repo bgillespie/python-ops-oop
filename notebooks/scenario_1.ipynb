{
 "cells": [
  {
   "cell_type": "markdown",
   "metadata": {},
   "source": [
    "# Python OOP for Ops Tutorial\n",
    "\n",
    "This tutorial is to demonstrate the basic principles of Object-Oriented Programming in Python in an Operations scenario. This knowledge will help you take your Operations programming skills to the next level, from basic single-purpose scripts to reusable, flexible, object-oriented code.\n",
    "\n",
    "To get the best from this tutorial, you need to be _somewhat_ familiar with Python, to the extent that you've written some scripts to do operational tasks -- most likely using the `requests` module -- but you don't need to have written code using your own classes: that's what you will learn from this tutorial.\n",
    "\n",
    "The core scenario of the tutorial is this: you have several remote routers and your task is to determine which of these are busiest. To achieve this, you decide to compile throughput metrics on the interfaces of each router as a proxy for \"busy-ness\"."
   ]
  },
  {
   "cell_type": "markdown",
   "metadata": {},
   "source": [
    "## Scenario 1\n",
    "\n",
    "In the early days, all routers are the same. A single, simple script iterates over all routers' addresses, logs in to each and pulls its traffic data. (To focus on the core lesson, the login credentials are the same for all routers. Of course, in real life, no-one would do that.)"
   ]
  },
  {
   "cell_type": "markdown",
   "metadata": {},
   "source": [
    "### Set up the simulation"
   ]
  },
  {
   "cell_type": "markdown",
   "metadata": {},
   "source": [
    "If you want to practice yourself outside of these notebooks, you can use the code below (or the same from Scenario 2) to set up the simulation. It creates some simulated routers in memory and provides an interface similar to that presented by the `requests` module."
   ]
  },
  {
   "cell_type": "code",
   "execution_count": 1,
   "metadata": {},
   "outputs": [],
   "source": [
    "# Load the libraries\n",
    "import os, sys, json\n",
    "sys.path.insert(0, \"../src\")\n",
    "from tutor_router.scenarios import Scenario, NotFoundError\n",
    "\n",
    "# Set up the scenario\n",
    "scenario = Scenario.scenario_1()\n",
    "\n",
    "# Make these look a bit like `requests` calls.\n",
    "request = scenario.request\n",
    "get = scenario.get\n",
    "post = scenario.post\n",
    "\n",
    "# Get a list of host names, for convenience.\n",
    "hosts = tuple(scenario.hosts())"
   ]
  },
  {
   "cell_type": "markdown",
   "metadata": {},
   "source": [
    "> NOTE: this simulation's interface is _similar to_ but not _precisely_ like `requests`. Don't use the call patterns here in real life code. Refer to the [`requests` docs](https://docs.python-requests.org/en/latest/) and tutorials for the Real Thing(tm)."
   ]
  },
  {
   "cell_type": "markdown",
   "metadata": {},
   "source": [
    "These are the hosts. We can use these as hostnames."
   ]
  },
  {
   "cell_type": "code",
   "execution_count": 2,
   "metadata": {},
   "outputs": [
    {
     "data": {
      "text/plain": [
       "('TutorRouter-1',\n",
       " 'TutorRouter-2',\n",
       " 'TutorRouter-3',\n",
       " 'TutorRouter-4',\n",
       " 'TutorRouter-5',\n",
       " 'TutorRouter-6',\n",
       " 'TutorRouter-7',\n",
       " 'TutorRouter-8',\n",
       " 'TutorRouter-9',\n",
       " 'TutorRouter-10',\n",
       " 'TutorRouter-11',\n",
       " 'TutorRouter-12',\n",
       " 'TutorRouter-13',\n",
       " 'TutorRouter-14',\n",
       " 'TutorRouter-15',\n",
       " 'TutorRouter-16',\n",
       " 'TutorRouter-17',\n",
       " 'TutorRouter-18',\n",
       " 'TutorRouter-19',\n",
       " 'TutorRouter-20')"
      ]
     },
     "execution_count": 2,
     "metadata": {},
     "output_type": "execute_result"
    }
   ],
   "source": [
    "hosts"
   ]
  },
  {
   "cell_type": "markdown",
   "metadata": {},
   "source": [
    "## Building a typical Ops script\n",
    "\n",
    "**NOTE** keep in mind that this is a _simulation_. It is _somewhat_ like what you'd do with `requests` against real hosts, but not _exactly_ so. In order to concentrate on the core lessons, many details have been left out , particularly around how you'd acquire and use authentication tokens."
   ]
  },
  {
   "cell_type": "markdown",
   "metadata": {},
   "source": [
    "There's a healthcheck endpoint on each router. Let's poll them all first."
   ]
  },
  {
   "cell_type": "code",
   "execution_count": 3,
   "metadata": {
    "scrolled": true
   },
   "outputs": [
    {
     "name": "stdout",
     "output_type": "stream",
     "text": [
      "(200, '{\"host\": \"TutorRouter-1\", \"version\": 1, \"health\": \"good\"}')\n"
     ]
    },
    {
     "ename": "NotFoundError",
     "evalue": "Connection error",
     "output_type": "error",
     "traceback": [
      "\u001b[0;31m---------------------------------------------------------------------------\u001b[0m",
      "\u001b[0;31mNotFoundError\u001b[0m                             Traceback (most recent call last)",
      "Cell \u001b[0;32mIn[3], line 5\u001b[0m\n\u001b[1;32m      1\u001b[0m \u001b[38;5;66;03m# Iterate over all routers\u001b[39;00m\n\u001b[1;32m      2\u001b[0m \u001b[38;5;28;01mfor\u001b[39;00m hostname \u001b[38;5;129;01min\u001b[39;00m scenario\u001b[38;5;241m.\u001b[39mhosts():\n\u001b[1;32m      3\u001b[0m \n\u001b[1;32m      4\u001b[0m     \u001b[38;5;66;03m# Perform a health check on the current router.\u001b[39;00m\n\u001b[0;32m----> 5\u001b[0m     health \u001b[38;5;241m=\u001b[39m \u001b[43mscenario\u001b[49m\u001b[38;5;241;43m.\u001b[39;49m\u001b[43mget\u001b[49m\u001b[43m(\u001b[49m\u001b[43mhostname\u001b[49m\u001b[43m,\u001b[49m\u001b[43m \u001b[49m\u001b[38;5;124;43m\"\u001b[39;49m\u001b[38;5;124;43mhealthcheck\u001b[39;49m\u001b[38;5;124;43m\"\u001b[39;49m\u001b[43m)\u001b[49m\n\u001b[1;32m      6\u001b[0m     \u001b[38;5;28mprint\u001b[39m(health)\n",
      "File \u001b[0;32m~/Projects/python-ops-oop/notebooks/../src/tutor_router/scenarios.py:49\u001b[0m, in \u001b[0;36mScenario.get\u001b[0;34m(self, hostname, path, headers)\u001b[0m\n\u001b[1;32m     48\u001b[0m \u001b[38;5;28;01mdef\u001b[39;00m \u001b[38;5;21mget\u001b[39m(\u001b[38;5;28mself\u001b[39m, hostname, path, headers\u001b[38;5;241m=\u001b[39m\u001b[38;5;28;01mNone\u001b[39;00m):\n\u001b[0;32m---> 49\u001b[0m     \u001b[38;5;28;01mreturn\u001b[39;00m \u001b[38;5;28;43mself\u001b[39;49m\u001b[38;5;241;43m.\u001b[39;49m\u001b[43mrequest\u001b[49m\u001b[43m(\u001b[49m\u001b[43mhostname\u001b[49m\u001b[43m,\u001b[49m\u001b[43m \u001b[49m\u001b[38;5;124;43m\"\u001b[39;49m\u001b[38;5;124;43mGET\u001b[39;49m\u001b[38;5;124;43m\"\u001b[39;49m\u001b[43m,\u001b[49m\u001b[43m \u001b[49m\u001b[43mpath\u001b[49m\u001b[43m,\u001b[49m\u001b[43m \u001b[49m\u001b[43mheaders\u001b[49m\u001b[43m)\u001b[49m\n",
      "File \u001b[0;32m~/Projects/python-ops-oop/notebooks/../src/tutor_router/scenarios.py:43\u001b[0m, in \u001b[0;36mScenario.request\u001b[0;34m(self, hostname, method, path, headers)\u001b[0m\n\u001b[1;32m     40\u001b[0m method \u001b[38;5;241m=\u001b[39m method\u001b[38;5;241m.\u001b[39mlower()\n\u001b[1;32m     42\u001b[0m \u001b[38;5;28;01mif\u001b[39;00m method \u001b[38;5;241m==\u001b[39m \u001b[38;5;124m\"\u001b[39m\u001b[38;5;124mget\u001b[39m\u001b[38;5;124m\"\u001b[39m:\n\u001b[0;32m---> 43\u001b[0m     \u001b[38;5;28;01mreturn\u001b[39;00m \u001b[43mrouter\u001b[49m\u001b[38;5;241;43m.\u001b[39;49m\u001b[43mget\u001b[49m\u001b[43m(\u001b[49m\u001b[43mpath\u001b[49m\u001b[43m,\u001b[49m\u001b[43m \u001b[49m\u001b[43mheaders\u001b[49m\u001b[43m)\u001b[49m\n\u001b[1;32m     45\u001b[0m \u001b[38;5;28;01mif\u001b[39;00m method \u001b[38;5;241m==\u001b[39m \u001b[38;5;124m\"\u001b[39m\u001b[38;5;124mpost\u001b[39m\u001b[38;5;124m\"\u001b[39m:\n\u001b[1;32m     46\u001b[0m     \u001b[38;5;28;01mreturn\u001b[39;00m router\u001b[38;5;241m.\u001b[39mpost(path, headers)\n",
      "File \u001b[0;32m~/Projects/python-ops-oop/notebooks/../src/tutor_router/pretend_service.py:136\u001b[0m, in \u001b[0;36mTutorRouter.get\u001b[0;34m(self, url, headers)\u001b[0m\n\u001b[1;32m    134\u001b[0m         \u001b[38;5;28;01mreturn\u001b[39;00m \u001b[38;5;241m200\u001b[39m, \u001b[38;5;28mself\u001b[39m\u001b[38;5;241m.\u001b[39m_healthcheck()\n\u001b[1;32m    135\u001b[0m     \u001b[38;5;28;01melse\u001b[39;00m:\n\u001b[0;32m--> 136\u001b[0m         \u001b[38;5;28;01mraise\u001b[39;00m NotFoundError(\u001b[38;5;124mf\u001b[39m\u001b[38;5;124m\"\u001b[39m\u001b[38;5;124mConnection error\u001b[39m\u001b[38;5;124m\"\u001b[39m)\n\u001b[1;32m    138\u001b[0m \u001b[38;5;66;03m# Anything except healthcheck requires login.\u001b[39;00m\n\u001b[1;32m    139\u001b[0m \u001b[38;5;28;01mif\u001b[39;00m \u001b[38;5;129;01mnot\u001b[39;00m \u001b[38;5;28mself\u001b[39m\u001b[38;5;241m.\u001b[39m_check_auth(headers):\n",
      "\u001b[0;31mNotFoundError\u001b[0m: Connection error"
     ]
    }
   ],
   "source": [
    "# Iterate over all routers\n",
    "for hostname in scenario.hosts():\n",
    "\n",
    "    # Perform a health check on the current router.\n",
    "    health = scenario.get(hostname, \"healthcheck\")\n",
    "    print(health)"
   ]
  },
  {
   "cell_type": "markdown",
   "metadata": {},
   "source": [
    "`ConnectionError`\n",
    "\n",
    "Bummer, some of them are down.\n",
    "\n",
    "Never mind, we can catch that exception and skip those routers until they are fixed."
   ]
  },
  {
   "cell_type": "code",
   "execution_count": 4,
   "metadata": {},
   "outputs": [
    {
     "name": "stdout",
     "output_type": "stream",
     "text": [
      "Host TutorRouter-1 is up\n",
      "Host TutorRouter-2 is not available\n",
      "Host TutorRouter-3 is up\n",
      "Host TutorRouter-4 is up\n",
      "Host TutorRouter-5 is up\n",
      "Host TutorRouter-6 is up\n",
      "Host TutorRouter-7 is up\n",
      "Host TutorRouter-8 is up\n",
      "Host TutorRouter-9 is up\n",
      "Host TutorRouter-10 is up\n",
      "Host TutorRouter-11 is up\n",
      "Host TutorRouter-12 is not available\n",
      "Host TutorRouter-13 is up\n",
      "Host TutorRouter-14 is up\n",
      "Host TutorRouter-15 is up\n",
      "Host TutorRouter-16 is up\n",
      "Host TutorRouter-17 is up\n",
      "Host TutorRouter-18 is not available\n",
      "Host TutorRouter-19 is not available\n",
      "Host TutorRouter-20 is up\n"
     ]
    }
   ],
   "source": [
    "# Iterate over all routers.\n",
    "for hostname in hosts:\n",
    "    # Perform a health check on the current router.\n",
    "    try:\n",
    "        health = get(hostname, \"healthcheck\")\n",
    "    except NotFoundError:\n",
    "        print(f\"Host {hostname} is not available\")\n",
    "        continue\n",
    "    print(f\"Host {hostname} is up\")"
   ]
  },
  {
   "cell_type": "markdown",
   "metadata": {},
   "source": [
    "Cool, now we can get the interface stats."
   ]
  },
  {
   "cell_type": "code",
   "execution_count": 5,
   "metadata": {
    "scrolled": true
   },
   "outputs": [
    {
     "name": "stdout",
     "output_type": "stream",
     "text": [
      "Host TutorRouter-1 is up\n",
      "  interfaces: (403) {\"message\": \"Forbidden\"}\n",
      "Host TutorRouter-2 is not available\n",
      "Host TutorRouter-3 is up\n",
      "  interfaces: (403) {\"message\": \"Forbidden\"}\n",
      "Host TutorRouter-4 is up\n",
      "  interfaces: (403) {\"message\": \"Forbidden\"}\n",
      "Host TutorRouter-5 is up\n",
      "  interfaces: (403) {\"message\": \"Forbidden\"}\n",
      "Host TutorRouter-6 is up\n",
      "  interfaces: (403) {\"message\": \"Forbidden\"}\n",
      "Host TutorRouter-7 is up\n",
      "  interfaces: (403) {\"message\": \"Forbidden\"}\n",
      "Host TutorRouter-8 is up\n",
      "  interfaces: (403) {\"message\": \"Forbidden\"}\n",
      "Host TutorRouter-9 is up\n",
      "  interfaces: (403) {\"message\": \"Forbidden\"}\n",
      "Host TutorRouter-10 is up\n",
      "  interfaces: (403) {\"message\": \"Forbidden\"}\n",
      "Host TutorRouter-11 is up\n",
      "  interfaces: (403) {\"message\": \"Forbidden\"}\n",
      "Host TutorRouter-12 is not available\n",
      "Host TutorRouter-13 is up\n",
      "  interfaces: (403) {\"message\": \"Forbidden\"}\n",
      "Host TutorRouter-14 is up\n",
      "  interfaces: (403) {\"message\": \"Forbidden\"}\n",
      "Host TutorRouter-15 is up\n",
      "  interfaces: (403) {\"message\": \"Forbidden\"}\n",
      "Host TutorRouter-16 is up\n",
      "  interfaces: (403) {\"message\": \"Forbidden\"}\n",
      "Host TutorRouter-17 is up\n",
      "  interfaces: (403) {\"message\": \"Forbidden\"}\n",
      "Host TutorRouter-18 is not available\n",
      "Host TutorRouter-19 is not available\n",
      "Host TutorRouter-20 is up\n",
      "  interfaces: (403) {\"message\": \"Forbidden\"}\n"
     ]
    }
   ],
   "source": [
    "# Iterate over all routers\n",
    "for hostname in hosts:\n",
    "    # Perform a health check on the current router.\n",
    "    try:\n",
    "        health = get(hostname, \"healthcheck\")\n",
    "    except NotFoundError:\n",
    "        print(f\"Host {hostname} is not available\")\n",
    "        continue\n",
    "    print(f\"Host {hostname} is up\")\n",
    "\n",
    "    # Now get the interface stats.\n",
    "    status_code, response = get(hostname, \"interfaces\")\n",
    "    print(f\"  interfaces: ({status_code}) {response}\")"
   ]
  },
  {
   "cell_type": "markdown",
   "metadata": {},
   "source": [
    "Ah, that function needs login. OK let's do that."
   ]
  },
  {
   "cell_type": "code",
   "execution_count": 6,
   "metadata": {
    "scrolled": true
   },
   "outputs": [
    {
     "name": "stdout",
     "output_type": "stream",
     "text": [
      "Host TutorRouter-1 is up\n",
      "  log in: (200) 65788d79-dc50-4d9b-bc9f-fee342f76d5e\n",
      "Host TutorRouter-2 is not available\n",
      "Host TutorRouter-3 is up\n",
      "  log in: (200) 9275a916-2783-4247-b2c4-41a68e5e1489\n",
      "Host TutorRouter-4 is up\n",
      "  log in: (200) aff8f2b0-3141-43cc-b8a1-965bc2cece95\n",
      "Host TutorRouter-5 is up\n",
      "  log in: (200) 3de9f02d-f333-4354-87a4-87b7c20615e0\n",
      "Host TutorRouter-6 is up\n",
      "  log in: (200) 21104ed0-3b1a-47ce-bc0a-4fa07e840d94\n",
      "Host TutorRouter-7 is up\n",
      "  log in: (200) 4954da95-8bb1-4fc1-8c28-d91806ce7760\n",
      "Host TutorRouter-8 is up\n",
      "  log in: (200) 6044b541-5bd9-44d4-b34e-fec42e2dad03\n",
      "Host TutorRouter-9 is up\n",
      "  log in: (200) 337bf146-f9cb-414f-8ffe-f4b2d42126c8\n",
      "Host TutorRouter-10 is up\n",
      "  log in: (200) a7b9666e-294a-433f-a98c-ebc333d5e671\n",
      "Host TutorRouter-11 is up\n",
      "  log in: (200) 8fc0bf53-e63a-43db-a104-11ec9260345d\n",
      "Host TutorRouter-12 is not available\n",
      "Host TutorRouter-13 is up\n",
      "  log in: (200) 2f814b39-3335-4f1e-9daa-1311a0301ada\n",
      "Host TutorRouter-14 is up\n",
      "  log in: (200) 365a645e-8944-4a0d-ae91-2ecc7fd943b5\n",
      "Host TutorRouter-15 is up\n",
      "  log in: (200) a6e6e280-a258-4b71-8ac4-ba10429561c8\n",
      "Host TutorRouter-16 is up\n",
      "  log in: (200) be6c697c-83d0-4404-89e9-5823e25054fb\n",
      "Host TutorRouter-17 is up\n",
      "  log in: (200) 7c8bd7af-e362-4bad-8a80-aed8ca33b2aa\n",
      "Host TutorRouter-18 is not available\n",
      "Host TutorRouter-19 is not available\n",
      "Host TutorRouter-20 is up\n",
      "  log in: (200) 4d236424-e2fc-4b2f-8e7b-3afd7c7de34f\n"
     ]
    }
   ],
   "source": [
    "# Iterate over all routers.\n",
    "for hostname in hosts:\n",
    "    # Perform a health check on the current router.\n",
    "    try:\n",
    "        health = get(hostname, \"healthcheck\")\n",
    "    except NotFoundError:\n",
    "        print(f\"Host {hostname} is not available\")\n",
    "        continue\n",
    "    print(f\"Host {hostname} is up\")\n",
    "\n",
    "    # We need to log in before we can do anything more than health check...\n",
    "    status_code, response = post(hostname, \"login\", headers={\"username\": \"admin\", \"password\": \"Password123\"})\n",
    "    print(f\"  log in: ({status_code}) {response}\")"
   ]
  },
  {
   "cell_type": "markdown",
   "metadata": {},
   "source": [
    "The response to login (again: in this simulation) is an auth token that we have to pass in the headers with every request to a protected endpoint.\n",
    "\n",
    "Let's do that.\n",
    "\n",
    "Also, let's not print out the auth token any more :-)"
   ]
  },
  {
   "cell_type": "code",
   "execution_count": 7,
   "metadata": {
    "scrolled": true
   },
   "outputs": [
    {
     "name": "stdout",
     "output_type": "stream",
     "text": [
      "Host TutorRouter-1 is up\n",
      "  Logged in\n",
      "  Interfaces: (200) {\"eth0\": {\"up\": 825594, \"down\": 514451}, \"mgmt\": {\"up\": 49504, \"down\": 966473}}\n",
      "Host TutorRouter-2 is not available\n",
      "Host TutorRouter-3 is up\n",
      "  Logged in\n",
      "  Interfaces: (200) {\"eth0\": {\"up\": 503084, \"down\": 304664}, \"mgmt\": {\"up\": 838217, \"down\": 207374}}\n",
      "Host TutorRouter-4 is up\n",
      "  Logged in\n",
      "  Interfaces: (200) {\"eth0\": {\"up\": 253034, \"down\": 431213}, \"mgmt\": {\"up\": 986686, \"down\": 726367}}\n",
      "Host TutorRouter-5 is up\n",
      "  Logged in\n",
      "  Interfaces: (200) {\"eth0\": {\"up\": 336163, \"down\": 144899}, \"mgmt\": {\"up\": 849370, \"down\": 301684}}\n",
      "Host TutorRouter-6 is up\n",
      "  Logged in\n",
      "  Interfaces: (200) {\"eth0\": {\"up\": 423477, \"down\": 79312}, \"mgmt\": {\"up\": 312544, \"down\": 842194}}\n",
      "Host TutorRouter-7 is up\n",
      "  Logged in\n",
      "  Interfaces: (200) {\"eth0\": {\"up\": 474467, \"down\": 968526}, \"mgmt\": {\"up\": 679815, \"down\": 890544}}\n",
      "Host TutorRouter-8 is up\n",
      "  Logged in\n",
      "  Interfaces: (200) {\"eth0\": {\"up\": 819850, \"down\": 41554}, \"mgmt\": {\"up\": 159422, \"down\": 686595}}\n",
      "Host TutorRouter-9 is up\n",
      "  Logged in\n",
      "  Interfaces: (200) {\"eth0\": {\"up\": 225302, \"down\": 926427}, \"mgmt\": {\"up\": 495457, \"down\": 817334}}\n",
      "Host TutorRouter-10 is up\n",
      "  Logged in\n",
      "  Interfaces: (200) {\"eth0\": {\"up\": 895829, \"down\": 591661}, \"mgmt\": {\"up\": 775150, \"down\": 413022}}\n",
      "Host TutorRouter-11 is up\n",
      "  Logged in\n",
      "  Interfaces: (200) {\"eth0\": {\"up\": 979886, \"down\": 67339}, \"mgmt\": {\"up\": 586384, \"down\": 280284}}\n",
      "Host TutorRouter-12 is not available\n",
      "Host TutorRouter-13 is up\n",
      "  Logged in\n",
      "  Interfaces: (200) {\"eth0\": {\"up\": 406732, \"down\": 759937}, \"mgmt\": {\"up\": 918874, \"down\": 223375}}\n",
      "Host TutorRouter-14 is up\n",
      "  Logged in\n",
      "  Interfaces: (200) {\"eth0\": {\"up\": 316953, \"down\": 19128}, \"mgmt\": {\"up\": 235476, \"down\": 810175}}\n",
      "Host TutorRouter-15 is up\n",
      "  Logged in\n",
      "  Interfaces: (200) {\"eth0\": {\"up\": 670009, \"down\": 408418}, \"mgmt\": {\"up\": 971286, \"down\": 397760}}\n",
      "Host TutorRouter-16 is up\n",
      "  Logged in\n",
      "  Interfaces: (200) {\"eth0\": {\"up\": 461101, \"down\": 209223}, \"mgmt\": {\"up\": 99389, \"down\": 489682}}\n",
      "Host TutorRouter-17 is up\n",
      "  Logged in\n",
      "  Interfaces: (200) {\"eth0\": {\"up\": 337277, \"down\": 715897}, \"mgmt\": {\"up\": 554048, \"down\": 479376}}\n",
      "Host TutorRouter-18 is not available\n",
      "Host TutorRouter-19 is not available\n",
      "Host TutorRouter-20 is up\n",
      "  Logged in\n",
      "  Interfaces: (200) {\"eth0\": {\"up\": 126536, \"down\": 784037}, \"mgmt\": {\"up\": 746597, \"down\": 759358}}\n"
     ]
    }
   ],
   "source": [
    "# Iterate over all routers.\n",
    "for hostname in hosts:\n",
    "    # Perform a health check on the current router.\n",
    "    try:\n",
    "        health = get(hostname, \"healthcheck\")\n",
    "    except NotFoundError:\n",
    "        print(f\"Host {hostname} is not available\")\n",
    "        continue\n",
    "    print(f\"Host {hostname} is up\")\n",
    "\n",
    "    # We need to log in before we can do anything more than health check...\n",
    "    status_code, response = post(hostname, \"login\", headers={\"username\": \"admin\", \"password\": \"Password123\"})\n",
    "    if status_code != 200:\n",
    "        print(f\"  Failed to log in\")\n",
    "        continue\n",
    "    print(f\"  Logged in\")\n",
    "    auth_token = response\n",
    "\n",
    "    # Now grab the interface stats.\n",
    "    # We have to pass in the auth token because this is a protected operation.\n",
    "    status_code, response = get(hostname, \"interfaces\", headers={\"Token\": auth_token})\n",
    "    if status_code != 200:\n",
    "        print(f\"  Failed to get interface stats: {response}\")\n",
    "        continue\n",
    "    print(f\"  Interfaces: ({status_code}) {response}\")"
   ]
  },
  {
   "cell_type": "markdown",
   "metadata": {},
   "source": [
    "Noice! Now we can just add the \"up\" and \"down\" for `eth0`..."
   ]
  },
  {
   "cell_type": "code",
   "execution_count": 8,
   "metadata": {
    "scrolled": false
   },
   "outputs": [
    {
     "name": "stdout",
     "output_type": "stream",
     "text": [
      "Host TutorRouter-1 is up\n",
      "  Logged in\n"
     ]
    },
    {
     "ename": "TypeError",
     "evalue": "string indices must be integers",
     "output_type": "error",
     "traceback": [
      "\u001b[0;31m---------------------------------------------------------------------------\u001b[0m",
      "\u001b[0;31mTypeError\u001b[0m                                 Traceback (most recent call last)",
      "Cell \u001b[0;32mIn[8], line 25\u001b[0m\n\u001b[1;32m     23\u001b[0m     \u001b[38;5;28mprint\u001b[39m(\u001b[38;5;124mf\u001b[39m\u001b[38;5;124m\"\u001b[39m\u001b[38;5;124m  Failed to get interface stats\u001b[39m\u001b[38;5;124m\"\u001b[39m)\n\u001b[1;32m     24\u001b[0m     \u001b[38;5;28;01mcontinue\u001b[39;00m\n\u001b[0;32m---> 25\u001b[0m total_throughput \u001b[38;5;241m=\u001b[39m \u001b[43mresponse\u001b[49m\u001b[43m[\u001b[49m\u001b[38;5;124;43m\"\u001b[39;49m\u001b[38;5;124;43meth0\u001b[39;49m\u001b[38;5;124;43m\"\u001b[39;49m\u001b[43m]\u001b[49m[\u001b[38;5;124m\"\u001b[39m\u001b[38;5;124mup\u001b[39m\u001b[38;5;124m\"\u001b[39m] \u001b[38;5;241m+\u001b[39m response[\u001b[38;5;124m\"\u001b[39m\u001b[38;5;124meth0\u001b[39m\u001b[38;5;124m\"\u001b[39m][\u001b[38;5;124m\"\u001b[39m\u001b[38;5;124mdown\u001b[39m\u001b[38;5;124m\"\u001b[39m]\n\u001b[1;32m     26\u001b[0m \u001b[38;5;28mprint\u001b[39m(\u001b[38;5;124mf\u001b[39m\u001b[38;5;124m\"\u001b[39m\u001b[38;5;124m  Throughput: \u001b[39m\u001b[38;5;132;01m{\u001b[39;00mtotal_throughput\u001b[38;5;132;01m}\u001b[39;00m\u001b[38;5;124m bits per second\u001b[39m\u001b[38;5;124m\"\u001b[39m)\n",
      "\u001b[0;31mTypeError\u001b[0m: string indices must be integers"
     ]
    }
   ],
   "source": [
    "# Iterate over all routers.\n",
    "for hostname in hosts:\n",
    "    # Perform a health check on the current router.\n",
    "    try:\n",
    "        health = get(hostname, \"healthcheck\")\n",
    "    except NotFoundError:\n",
    "        print(f\"Host {hostname} is not available\")\n",
    "        continue\n",
    "    print(f\"Host {hostname} is up\")\n",
    "\n",
    "    # We need to log in before we can do anything more than health check...\n",
    "    status_code, response = post(hostname, \"login\", headers={\"username\": \"admin\", \"password\": \"Password123\"})\n",
    "    if status_code != 200:\n",
    "        print(f\"  Failed to log in\")\n",
    "        continue\n",
    "    print(f\"  Logged in\")\n",
    "    auth_token = response\n",
    "\n",
    "    # Now grab the interface stats.\n",
    "    # We have to pass in the auth token because this is a protected operation.\n",
    "    status_code, response = get(hostname, \"interfaces\", headers={\"Token\": auth_token})\n",
    "    if status_code != 200:\n",
    "        print(f\"  Failed to get interface stats\")\n",
    "        continue\n",
    "    total_throughput = response[\"eth0\"][\"up\"] + response[\"eth0\"][\"down\"]\n",
    "    print(f\"  Throughput: {total_throughput} bits per second\")"
   ]
  },
  {
   "cell_type": "markdown",
   "metadata": {},
   "source": [
    "What the heck does that mean?\n",
    "\n",
    "Ah. Turns out the response isn't a Python object, it's string-encoded JSON. Let's fix that."
   ]
  },
  {
   "cell_type": "code",
   "execution_count": 9,
   "metadata": {
    "scrolled": true
   },
   "outputs": [
    {
     "name": "stdout",
     "output_type": "stream",
     "text": [
      "Host TutorRouter-1 is up\n",
      "  Throughput: 1340045 bits per second\n",
      "Host TutorRouter-2 is not available\n",
      "Host TutorRouter-3 is up\n",
      "  Throughput: 807748 bits per second\n",
      "Host TutorRouter-4 is up\n",
      "  Throughput: 684247 bits per second\n",
      "Host TutorRouter-5 is up\n",
      "  Throughput: 481062 bits per second\n",
      "Host TutorRouter-6 is up\n",
      "  Throughput: 502789 bits per second\n",
      "Host TutorRouter-7 is up\n",
      "  Throughput: 1442993 bits per second\n",
      "Host TutorRouter-8 is up\n",
      "  Throughput: 861404 bits per second\n",
      "Host TutorRouter-9 is up\n",
      "  Throughput: 1151729 bits per second\n",
      "Host TutorRouter-10 is up\n",
      "  Throughput: 1487490 bits per second\n",
      "Host TutorRouter-11 is up\n",
      "  Throughput: 1047225 bits per second\n",
      "Host TutorRouter-12 is not available\n",
      "Host TutorRouter-13 is up\n",
      "  Throughput: 1166669 bits per second\n",
      "Host TutorRouter-14 is up\n",
      "  Throughput: 336081 bits per second\n",
      "Host TutorRouter-15 is up\n",
      "  Throughput: 1078427 bits per second\n",
      "Host TutorRouter-16 is up\n",
      "  Throughput: 670324 bits per second\n",
      "Host TutorRouter-17 is up\n",
      "  Throughput: 1053174 bits per second\n",
      "Host TutorRouter-18 is not available\n",
      "Host TutorRouter-19 is not available\n",
      "Host TutorRouter-20 is up\n",
      "  Throughput: 910573 bits per second\n"
     ]
    }
   ],
   "source": [
    "# Iterate over all routers.\n",
    "for hostname in hosts:\n",
    "    # Perform a health check on the current router.\n",
    "    try:\n",
    "        health = get(hostname, \"healthcheck\")\n",
    "    except NotFoundError:\n",
    "        print(f\"Host {hostname} is not available\")\n",
    "        continue\n",
    "    print(f\"Host {hostname} is up\")\n",
    "\n",
    "    # We need to log in before we can do anything more than health check...\n",
    "    status_code, response = post(hostname, \"login\", headers={\"username\": \"admin\", \"password\": \"Password123\"})\n",
    "    if status_code != 200:\n",
    "        print(f\"  Failed to log in\")\n",
    "        continue\n",
    "    auth_token = response\n",
    "\n",
    "    # Now grab the interface stats.\n",
    "    # We have to pass in the auth token because this is a protected operation.\n",
    "    status_code, response = get(hostname, \"interfaces\", headers={\"Token\": auth_token})\n",
    "    \n",
    "    # Decode the JSON\n",
    "    data = json.loads(response)\n",
    "    \n",
    "    # Calculate the throughput.\n",
    "    total_throughput = data[\"eth0\"][\"up\"] + data[\"eth0\"][\"down\"]\n",
    "    print(f\"  Throughput: {total_throughput} bits per second\")"
   ]
  },
  {
   "cell_type": "markdown",
   "metadata": {},
   "source": [
    "Job done!\n",
    "\n",
    "But wait..."
   ]
  },
  {
   "cell_type": "markdown",
   "metadata": {},
   "source": [
    "Onto [Scenario 2](scenario_2.ipynb)..."
   ]
  }
 ],
 "metadata": {
  "kernelspec": {
   "display_name": "Python 3 (ipykernel)",
   "language": "python",
   "name": "python3"
  },
  "language_info": {
   "codemirror_mode": {
    "name": "ipython",
    "version": 3
   },
   "file_extension": ".py",
   "mimetype": "text/x-python",
   "name": "python",
   "nbconvert_exporter": "python",
   "pygments_lexer": "ipython3",
   "version": "3.10.10"
  }
 },
 "nbformat": 4,
 "nbformat_minor": 1
}
